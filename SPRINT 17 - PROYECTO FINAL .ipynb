{
 "cells": [
  {
   "cell_type": "markdown",
   "metadata": {},
   "source": [
    "### Introducción"
   ]
  },
  {
   "cell_type": "markdown",
   "metadata": {},
   "source": [
    "#### Condiciones de la asignación principal"
   ]
  },
  {
   "cell_type": "markdown",
   "metadata": {},
   "source": [
    "Al operador de telecomunicaciones Interconnect le gustaría poder pronosticar su tasa de cancelación de clientes. Si se descubre que un usuario o usuaria planea irse, se le ofrecerán códigos promocionales y opciones de planes especiales. El equipo de marketing de Interconnect ha recopilado algunos de los datos personales de sus clientes, incluyendo información sobre sus planes y contratos.\n"
   ]
  },
  {
   "cell_type": "markdown",
   "metadata": {},
   "source": [
    "#### Servicios de Interconnect"
   ]
  },
  {
   "cell_type": "markdown",
   "metadata": {},
   "source": [
    "Interconnect proporciona principalmente dos tipos de servicios:\n",
    "\n",
    "1. Comunicación por teléfono fijo. El teléfono se puede conectar a varias líneas de manera simultánea.\n",
    "2. Internet. La red se puede configurar a través de una línea telefónica (DSL, *línea de abonado digital*) o a través de un cable de fibra óptica.\n",
    "\n",
    "Algunos otros servicios que ofrece la empresa incluyen:\n",
    "\n",
    "- Seguridad en Internet: software antivirus (*ProtecciónDeDispositivo*) y un bloqueador de sitios web maliciosos (*SeguridadEnLínea*).\n",
    "- Una línea de soporte técnico (*SoporteTécnico*).\n",
    "- Almacenamiento de archivos en la nube y backup de datos (*BackupOnline*).\n",
    "- Streaming de TV (*StreamingTV*) y directorio de películas (*StreamingPelículas*)\n",
    "\n",
    "La clientela puede elegir entre un pago mensual o firmar un contrato de 1 o 2 años. Puede utilizar varios métodos de pago y recibir una factura electrónica después de una transacción."
   ]
  },
  {
   "cell_type": "markdown",
   "metadata": {},
   "source": [
    "#### Descripción de los datos"
   ]
  },
  {
   "cell_type": "markdown",
   "metadata": {},
   "source": [
    "Los datos consisten en archivos obtenidos de diferentes fuentes:\n",
    "\n",
    "- `contract.csv` — información del contrato;\n",
    "- `personal.csv` — datos personales del cliente;\n",
    "- `internet.csv` — información sobre los servicios de Internet;\n",
    "- `phone.csv` — información sobre los servicios telefónicos.\n",
    "\n",
    "En cada archivo, la columna `customerID` (ID de cliente) contiene un código único asignado a cada cliente. La información del contrato es válida a partir del 1 de febrero de 2020.\n"
   ]
  },
  {
   "cell_type": "markdown",
   "metadata": {},
   "source": [
    "### Incialización y carga de datos"
   ]
  },
  {
   "cell_type": "code",
   "execution_count": 2436,
   "metadata": {},
   "outputs": [],
   "source": [
    "import pandas as pd\n",
    "import numpy as np\n",
    "import math\n",
    "import random\n",
    "import matplotlib.pyplot as plt\n",
    "from scipy import stats as st\n",
    "from joblib import dump\n",
    "from matplotlib import pyplot\n",
    "import seaborn as sns"
   ]
  },
  {
   "cell_type": "code",
   "execution_count": 2437,
   "metadata": {},
   "outputs": [],
   "source": [
    "df_contract = pd.read_csv('/datasets/final_provider/contract.csv')\n",
    "df_personal = pd.read_csv('/datasets/final_provider/personal.csv') \n",
    "df_internet = pd.read_csv('/datasets/final_provider/internet.csv')\n",
    "df_phone = pd.read_csv('/datasets/final_provider/phone.csv')"
   ]
  },
  {
   "cell_type": "markdown",
   "metadata": {},
   "source": [
    "### Preprocesamiento y análisis de los datos "
   ]
  },
  {
   "cell_type": "markdown",
   "metadata": {},
   "source": [
    "#### Preprocesamiento del Dataframe \"Contract\""
   ]
  },
  {
   "cell_type": "code",
   "execution_count": 2438,
   "metadata": {},
   "outputs": [
    {
     "name": "stdout",
     "output_type": "stream",
     "text": [
      "<class 'pandas.core.frame.DataFrame'>\n",
      "RangeIndex: 7043 entries, 0 to 7042\n",
      "Data columns (total 8 columns):\n",
      " #   Column            Non-Null Count  Dtype  \n",
      "---  ------            --------------  -----  \n",
      " 0   customerID        7043 non-null   object \n",
      " 1   BeginDate         7043 non-null   object \n",
      " 2   EndDate           7043 non-null   object \n",
      " 3   Type              7043 non-null   object \n",
      " 4   PaperlessBilling  7043 non-null   object \n",
      " 5   PaymentMethod     7043 non-null   object \n",
      " 6   MonthlyCharges    7043 non-null   float64\n",
      " 7   TotalCharges      7043 non-null   object \n",
      "dtypes: float64(1), object(7)\n",
      "memory usage: 440.3+ KB\n"
     ]
    }
   ],
   "source": [
    "df_contract.info()"
   ]
  },
  {
   "cell_type": "code",
   "execution_count": 2439,
   "metadata": {},
   "outputs": [
    {
     "data": {
      "text/html": [
       "<div>\n",
       "<style scoped>\n",
       "    .dataframe tbody tr th:only-of-type {\n",
       "        vertical-align: middle;\n",
       "    }\n",
       "\n",
       "    .dataframe tbody tr th {\n",
       "        vertical-align: top;\n",
       "    }\n",
       "\n",
       "    .dataframe thead th {\n",
       "        text-align: right;\n",
       "    }\n",
       "</style>\n",
       "<table border=\"1\" class=\"dataframe\">\n",
       "  <thead>\n",
       "    <tr style=\"text-align: right;\">\n",
       "      <th></th>\n",
       "      <th>customerID</th>\n",
       "      <th>BeginDate</th>\n",
       "      <th>EndDate</th>\n",
       "      <th>Type</th>\n",
       "      <th>PaperlessBilling</th>\n",
       "      <th>PaymentMethod</th>\n",
       "      <th>MonthlyCharges</th>\n",
       "      <th>TotalCharges</th>\n",
       "    </tr>\n",
       "  </thead>\n",
       "  <tbody>\n",
       "    <tr>\n",
       "      <th>2987</th>\n",
       "      <td>3769-MHZNV</td>\n",
       "      <td>2017-05-01</td>\n",
       "      <td>No</td>\n",
       "      <td>Two year</td>\n",
       "      <td>No</td>\n",
       "      <td>Mailed check</td>\n",
       "      <td>20.1</td>\n",
       "      <td>670.35</td>\n",
       "    </tr>\n",
       "  </tbody>\n",
       "</table>\n",
       "</div>"
      ],
      "text/plain": [
       "      customerID   BeginDate EndDate      Type PaperlessBilling PaymentMethod  \\\n",
       "2987  3769-MHZNV  2017-05-01      No  Two year               No  Mailed check   \n",
       "\n",
       "      MonthlyCharges TotalCharges  \n",
       "2987            20.1       670.35  "
      ]
     },
     "execution_count": 2439,
     "metadata": {},
     "output_type": "execute_result"
    }
   ],
   "source": [
    "df_contract.sample()"
   ]
  },
  {
   "cell_type": "code",
   "execution_count": 2440,
   "metadata": {},
   "outputs": [],
   "source": [
    "df_contract.columns = ['customer_ID','begin_date','end_date','type','paperless_billing','payment_method','monthly_charges','total_charges']"
   ]
  },
  {
   "cell_type": "code",
   "execution_count": 2441,
   "metadata": {},
   "outputs": [],
   "source": [
    "df_contract['begin_date'] = pd.to_datetime(df_contract['begin_date'], format = '%Y-%m-%d %H:%M:%S')"
   ]
  },
  {
   "cell_type": "code",
   "execution_count": 2442,
   "metadata": {},
   "outputs": [],
   "source": [
    "df_contract['end_date'] = pd.to_datetime(df_contract['end_date'], format = '%Y-%m-%d', errors = 'coerce')"
   ]
  },
  {
   "cell_type": "code",
   "execution_count": 2443,
   "metadata": {},
   "outputs": [],
   "source": [
    "df_contract['total_charges'] = pd.to_numeric(df_contract['total_charges'], errors='coerce')"
   ]
  },
  {
   "cell_type": "code",
   "execution_count": 2444,
   "metadata": {},
   "outputs": [
    {
     "data": {
      "text/plain": [
       "customer_ID          0\n",
       "begin_date           0\n",
       "end_date             0\n",
       "type                 0\n",
       "paperless_billing    0\n",
       "payment_method       0\n",
       "monthly_charges      0\n",
       "total_charges        0\n",
       "dtype: int64"
      ]
     },
     "execution_count": 2444,
     "metadata": {},
     "output_type": "execute_result"
    }
   ],
   "source": [
    "df_contract[df_contract.duplicated()].count()"
   ]
  },
  {
   "cell_type": "code",
   "execution_count": 2445,
   "metadata": {},
   "outputs": [
    {
     "data": {
      "text/plain": [
       "customer_ID             0\n",
       "begin_date              0\n",
       "end_date             5174\n",
       "type                    0\n",
       "paperless_billing       0\n",
       "payment_method          0\n",
       "monthly_charges         0\n",
       "total_charges          11\n",
       "dtype: int64"
      ]
     },
     "execution_count": 2445,
     "metadata": {},
     "output_type": "execute_result"
    }
   ],
   "source": [
    "df_contract.isna().sum()"
   ]
  },
  {
   "cell_type": "code",
   "execution_count": 2446,
   "metadata": {},
   "outputs": [],
   "source": [
    "df_contract['end_date'].fillna('No',inplace=True)"
   ]
  },
  {
   "cell_type": "code",
   "execution_count": 2447,
   "metadata": {},
   "outputs": [],
   "source": [
    "df_contract = df_contract.dropna()"
   ]
  },
  {
   "cell_type": "code",
   "execution_count": 2448,
   "metadata": {},
   "outputs": [
    {
     "data": {
      "text/plain": [
       "customer_ID          0\n",
       "begin_date           0\n",
       "end_date             0\n",
       "type                 0\n",
       "paperless_billing    0\n",
       "payment_method       0\n",
       "monthly_charges      0\n",
       "total_charges        0\n",
       "dtype: int64"
      ]
     },
     "execution_count": 2448,
     "metadata": {},
     "output_type": "execute_result"
    }
   ],
   "source": [
    "df_contract.isna().sum()"
   ]
  },
  {
   "cell_type": "code",
   "execution_count": 2449,
   "metadata": {},
   "outputs": [
    {
     "data": {
      "text/plain": [
       "(7032, 8)"
      ]
     },
     "execution_count": 2449,
     "metadata": {},
     "output_type": "execute_result"
    }
   ],
   "source": [
    "df_contract.shape"
   ]
  },
  {
   "cell_type": "markdown",
   "metadata": {},
   "source": [
    "Se han reemplezado 5174 datos ausentes para end_date de tal manera que cuando el plan continúe vigente solamente se muestre la palabra No para su uso posterior en el entrenamiento y prueba de los modelos predictivos.\n",
    "Además, se han eliminado 11 filas de datos ausentes para la columna total_charges ya que ésta no mostraba o mostraba vació la fila en 11 IDs de cliente.\n",
    "Con esto, nos hemos quedado con la información de 7032 clientes en 8 columnas diferentes que pueden ser utilizadas como datos de entrada para entrenamiento de un modelo."
   ]
  },
  {
   "cell_type": "markdown",
   "metadata": {},
   "source": [
    "#### Análisis exploratorio de datos para  \"Contract\""
   ]
  },
  {
   "cell_type": "code",
   "execution_count": 2450,
   "metadata": {},
   "outputs": [
    {
     "name": "stdout",
     "output_type": "stream",
     "text": [
      "7032\n"
     ]
    }
   ],
   "source": [
    "unique_contract = len(df_contract['customer_ID'].unique())\n",
    "print(unique_contract)"
   ]
  },
  {
   "cell_type": "code",
   "execution_count": 2451,
   "metadata": {
    "scrolled": true
   },
   "outputs": [
    {
     "data": {
      "text/plain": [
       "array([[<AxesSubplot:title={'center':'begin_date'}>]], dtype=object)"
      ]
     },
     "execution_count": 2451,
     "metadata": {},
     "output_type": "execute_result"
    },
    {
     "data": {
      "image/png": "[encoded data removed]",
      "text/plain": [
       "<Figure size 432x288 with 1 Axes>"
      ]
     },
     "metadata": {
      "needs_background": "light"
     },
     "output_type": "display_data"
    }
   ],
   "source": [
    "df_contract.hist('begin_date',bins=10)"
   ]
  },
  {
   "cell_type": "markdown",
   "metadata": {},
   "source": [
    "Podemos observar una figura en forma de \"bañera\" que muestra el comportamiento de la apertura de contrato para clientes, iniciando en 2004 con alrededor de 800 contratos abiertos seguido de una caida paulatina hasta llegar a un mínimo en 2016 y 2017 con solamente alrederor de 400 contratos abiertos por año y finalmente una subida en el número de apertura de contratos por año hasta llegar a un máximo de aperturas en 2020 con 1600 aproximadamente."
   ]
  },
  {
   "cell_type": "code",
   "execution_count": 2452,
   "metadata": {
    "scrolled": true
   },
   "outputs": [
    {
     "name": "stdout",
     "output_type": "stream",
     "text": [
      "No                     5163\n",
      "2019-11-01 00:00:00     485\n",
      "2019-12-01 00:00:00     466\n",
      "2020-01-01 00:00:00     460\n",
      "2019-10-01 00:00:00     458\n",
      "Name: end_date, dtype: int64\n"
     ]
    },
    {
     "data": {
      "image/png": "[encoded data removed]",
      "text/plain": [
       "<Figure size 432x288 with 1 Axes>"
      ]
     },
     "metadata": {},
     "output_type": "display_data"
    }
   ],
   "source": [
    "df_contract['end_date'].value_counts().plot(kind='pie')\n",
    "print(df_contract['end_date'].value_counts())"
   ]
  },
  {
   "cell_type": "markdown",
   "metadata": {},
   "source": [
    "Podemos observar que la mayoría de los contratos (73%) aún permanecen abiertos y solamente un pequeño porcentaje han sido cerrados en 2019 (13.5%) y otro tanto en 2020 (6.5%)."
   ]
  },
  {
   "cell_type": "code",
   "execution_count": 2453,
   "metadata": {
    "scrolled": true
   },
   "outputs": [
    {
     "name": "stdout",
     "output_type": "stream",
     "text": [
      "Porcentaje de contratos: \n",
      " Month-to-month    0.551052\n",
      "Two year          0.239619\n",
      "One year          0.209329\n",
      "Name: type, dtype: float64\n"
     ]
    },
    {
     "data": {
      "image/png": "[encoded data removed]",
      "text/plain": [
       "<Figure size 432x288 with 1 Axes>"
      ]
     },
     "metadata": {
      "needs_background": "light"
     },
     "output_type": "display_data"
    }
   ],
   "source": [
    "df_contract['type'].value_counts().plot(kind='bar')\n",
    "print('Porcentaje de contratos:', '\\n', df_contract['type'].value_counts() / df_contract['type'].value_counts().sum())"
   ]
  },
  {
   "cell_type": "markdown",
   "metadata": {},
   "source": [
    "De todos los contratos abiertos, el 55% pertenecen a contratos con renovación mensual, el 24% pertenece a contrato por dos años, y el 21% pertenece a contrato por año."
   ]
  },
  {
   "cell_type": "code",
   "execution_count": 2454,
   "metadata": {
    "scrolled": false
   },
   "outputs": [
    {
     "name": "stdout",
     "output_type": "stream",
     "text": [
      "Porcentaje de contratos: \n",
      " Yes    0.592719\n",
      "No     0.407281\n",
      "Name: paperless_billing, dtype: float64\n"
     ]
    },
    {
     "data": {
      "image/png": "[encoded data removed]",
      "text/plain": [
       "<Figure size 432x288 with 1 Axes>"
      ]
     },
     "metadata": {
      "needs_background": "light"
     },
     "output_type": "display_data"
    }
   ],
   "source": [
    "df_contract['paperless_billing'].value_counts().plot(kind='bar')\n",
    "print('Porcentaje de contratos:', '\\n', df_contract['paperless_billing'].value_counts() / df_contract['paperless_billing'].value_counts().sum())"
   ]
  },
  {
   "cell_type": "markdown",
   "metadata": {},
   "source": [
    "El 59% de los contratos ha suscrito no recibir más estados de cuenta en papel a domicilio, y el resto aún recibe el estado de cuenta en papel a domicilio."
   ]
  },
  {
   "cell_type": "code",
   "execution_count": 2455,
   "metadata": {},
   "outputs": [
    {
     "name": "stdout",
     "output_type": "stream",
     "text": [
      "Porcentaje de contratos: \n",
      " Electronic check             0.336320\n",
      "Mailed check                 0.228100\n",
      "Bank transfer (automatic)    0.219283\n",
      "Credit card (automatic)      0.216297\n",
      "Name: payment_method, dtype: float64\n"
     ]
    },
    {
     "data": {
      "image/png": "[encoded data removed]",
      "text/plain": [
       "<Figure size 432x288 with 1 Axes>"
      ]
     },
     "metadata": {
      "needs_background": "light"
     },
     "output_type": "display_data"
    }
   ],
   "source": [
    "df_contract['payment_method'].value_counts().plot(kind='bar')\n",
    "print('Porcentaje de contratos:', '\\n', df_contract['payment_method'].value_counts() / df_contract['payment_method'].value_counts().sum())"
   ]
  },
  {
   "cell_type": "markdown",
   "metadata": {},
   "source": [
    "El 33% de los contratos es pagado electrónicamente, un 23% es pagado por correo,  el 22% realiza transferencia bancaria domiciliada automáticamente, y el 22% restante recibe un cargo a su tarjeta recurrente de manera automática."
   ]
  },
  {
   "cell_type": "code",
   "execution_count": 2456,
   "metadata": {
    "scrolled": true
   },
   "outputs": [
    {
     "data": {
      "image/png": "[encoded data removed]",
      "text/plain": [
       "<Figure size 432x288 with 1 Axes>"
      ]
     },
     "metadata": {
      "needs_background": "light"
     },
     "output_type": "display_data"
    }
   ],
   "source": [
    "#df_contract.groupby('type').hist('monthly_charges',bins=10)\n",
    "sns.kdeplot(data=df_contract, x=\"monthly_charges\", hue=\"type\",multiple=\"stack\")\n",
    "plt.show()"
   ]
  },
  {
   "cell_type": "markdown",
   "metadata": {},
   "source": [
    "Acá podemos observar que en general todos los clientes tienen un grupo que paga alrededor de 20 dólares mensuales, sin embargo existen quizá dos o tres grupos que llegan a pagar 60, 80 y 00 dólares por mes. Esto se observa en los diferentes picos que las tres distribuciones muestran. Sin embargo, es el grupo de clientes que pagan mes con mes, el más numeroso, y además quien más clientes tienen con pagos que exceden los 20 dólares mensuales."
   ]
  },
  {
   "cell_type": "code",
   "execution_count": 2457,
   "metadata": {},
   "outputs": [
    {
     "data": {
      "image/png": "[encoded data removed]",
      "text/plain": [
       "<Figure size 432x288 with 1 Axes>"
      ]
     },
     "metadata": {
      "needs_background": "light"
     },
     "output_type": "display_data"
    }
   ],
   "source": [
    "df_contract.pivot_table(values='total_charges', index = 'payment_method', columns = 'type', aggfunc ='sum').plot(kind='bar')\n",
    "plt.show()"
   ]
  },
  {
   "cell_type": "markdown",
   "metadata": {},
   "source": [
    "Acá podemos observar que los clientes con la renovación de contrato mensual tienen la mayor suma de pagos, con la mayor cantidad de pagos acumulados en aquellos que pagan de manera electrónica. También podemos observar que los clientes con contrato a dos años son los que más utilizan transferencia bancaria y tarjeta de crédito."
   ]
  },
  {
   "cell_type": "code",
   "execution_count": 2458,
   "metadata": {
    "scrolled": true
   },
   "outputs": [
    {
     "data": {
      "text/plain": [
       "<AxesSubplot:xlabel='total_charges', ylabel='Density'>"
      ]
     },
     "execution_count": 2458,
     "metadata": {},
     "output_type": "execute_result"
    },
    {
     "data": {
      "image/png": "[encoded data removed]",
      "text/plain": [
       "<Figure size 432x288 with 1 Axes>"
      ]
     },
     "metadata": {
      "needs_background": "light"
     },
     "output_type": "display_data"
    }
   ],
   "source": [
    "sns.kdeplot(data=df_contract, x=\"total_charges\", hue=\"type\",multiple=\"stack\")"
   ]
  },
  {
   "cell_type": "markdown",
   "metadata": {},
   "source": [
    "Aquí podemos observar que existe un largo rango de cargos mensuales para los tres tipos de contratos, siendo aprox 1000 el cargo total más recurrente para los tres, sin embargo, es observable que podemos observar en los tres casos rangos de cargos mensuales tan grandes como los 10,000."
   ]
  },
  {
   "cell_type": "markdown",
   "metadata": {},
   "source": [
    "#### Preprocesamiento del Dataframe \"Personal\""
   ]
  },
  {
   "cell_type": "code",
   "execution_count": 2459,
   "metadata": {
    "scrolled": false
   },
   "outputs": [
    {
     "name": "stdout",
     "output_type": "stream",
     "text": [
      "<class 'pandas.core.frame.DataFrame'>\n",
      "RangeIndex: 7043 entries, 0 to 7042\n",
      "Data columns (total 5 columns):\n",
      " #   Column         Non-Null Count  Dtype \n",
      "---  ------         --------------  ----- \n",
      " 0   customerID     7043 non-null   object\n",
      " 1   gender         7043 non-null   object\n",
      " 2   SeniorCitizen  7043 non-null   int64 \n",
      " 3   Partner        7043 non-null   object\n",
      " 4   Dependents     7043 non-null   object\n",
      "dtypes: int64(1), object(4)\n",
      "memory usage: 275.2+ KB\n"
     ]
    }
   ],
   "source": [
    "df_personal.info()"
   ]
  },
  {
   "cell_type": "code",
   "execution_count": 2460,
   "metadata": {},
   "outputs": [
    {
     "data": {
      "text/html": [
       "<div>\n",
       "<style scoped>\n",
       "    .dataframe tbody tr th:only-of-type {\n",
       "        vertical-align: middle;\n",
       "    }\n",
       "\n",
       "    .dataframe tbody tr th {\n",
       "        vertical-align: top;\n",
       "    }\n",
       "\n",
       "    .dataframe thead th {\n",
       "        text-align: right;\n",
       "    }\n",
       "</style>\n",
       "<table border=\"1\" class=\"dataframe\">\n",
       "  <thead>\n",
       "    <tr style=\"text-align: right;\">\n",
       "      <th></th>\n",
       "      <th>customerID</th>\n",
       "      <th>gender</th>\n",
       "      <th>SeniorCitizen</th>\n",
       "      <th>Partner</th>\n",
       "      <th>Dependents</th>\n",
       "    </tr>\n",
       "  </thead>\n",
       "  <tbody>\n",
       "    <tr>\n",
       "      <th>3439</th>\n",
       "      <td>0917-EZOLA</td>\n",
       "      <td>Male</td>\n",
       "      <td>1</td>\n",
       "      <td>Yes</td>\n",
       "      <td>No</td>\n",
       "    </tr>\n",
       "  </tbody>\n",
       "</table>\n",
       "</div>"
      ],
      "text/plain": [
       "      customerID gender  SeniorCitizen Partner Dependents\n",
       "3439  0917-EZOLA   Male              1     Yes         No"
      ]
     },
     "execution_count": 2460,
     "metadata": {},
     "output_type": "execute_result"
    }
   ],
   "source": [
    "df_personal.sample()"
   ]
  },
  {
   "cell_type": "code",
   "execution_count": 2461,
   "metadata": {},
   "outputs": [],
   "source": [
    "df_personal.columns = ['customer_ID','gender','senior_citizen','partner','dependents']"
   ]
  },
  {
   "cell_type": "code",
   "execution_count": 2462,
   "metadata": {},
   "outputs": [
    {
     "data": {
      "text/plain": [
       "customer_ID       0\n",
       "gender            0\n",
       "senior_citizen    0\n",
       "partner           0\n",
       "dependents        0\n",
       "dtype: int64"
      ]
     },
     "execution_count": 2462,
     "metadata": {},
     "output_type": "execute_result"
    }
   ],
   "source": [
    "df_personal.isna().sum()"
   ]
  },
  {
   "cell_type": "code",
   "execution_count": 2463,
   "metadata": {},
   "outputs": [
    {
     "data": {
      "text/plain": [
       "customer_ID       0\n",
       "gender            0\n",
       "senior_citizen    0\n",
       "partner           0\n",
       "dependents        0\n",
       "dtype: int64"
      ]
     },
     "execution_count": 2463,
     "metadata": {},
     "output_type": "execute_result"
    }
   ],
   "source": [
    "df_personal[df_personal.duplicated()].count()"
   ]
  },
  {
   "cell_type": "code",
   "execution_count": 2464,
   "metadata": {},
   "outputs": [
    {
     "data": {
      "text/plain": [
       "(7043, 5)"
      ]
     },
     "execution_count": 2464,
     "metadata": {},
     "output_type": "execute_result"
    }
   ],
   "source": [
    "df_personal.shape"
   ]
  },
  {
   "cell_type": "markdown",
   "metadata": {},
   "source": [
    "#### Análisis exploratorio de datos para \"Personal\""
   ]
  },
  {
   "cell_type": "code",
   "execution_count": 2465,
   "metadata": {},
   "outputs": [
    {
     "name": "stdout",
     "output_type": "stream",
     "text": [
      "7043\n"
     ]
    }
   ],
   "source": [
    "unique_personal = len(df_personal['customer_ID'].unique())\n",
    "print(unique_personal)"
   ]
  },
  {
   "cell_type": "code",
   "execution_count": 2466,
   "metadata": {
    "scrolled": true
   },
   "outputs": [
    {
     "name": "stdout",
     "output_type": "stream",
     "text": [
      "Porcentaje de clientes: \n",
      " Male      0.504756\n",
      "Female    0.495244\n",
      "Name: gender, dtype: float64\n"
     ]
    },
    {
     "data": {
      "image/png": "[encoded data removed]",
      "text/plain": [
       "<Figure size 432x288 with 1 Axes>"
      ]
     },
     "metadata": {
      "needs_background": "light"
     },
     "output_type": "display_data"
    }
   ],
   "source": [
    "df_personal['gender'].value_counts().plot(kind='bar')\n",
    "\n",
    "print('Porcentaje de clientes:', '\\n', df_personal['gender'].value_counts() / df_personal['gender'].value_counts().sum())"
   ]
  },
  {
   "cell_type": "markdown",
   "metadata": {},
   "source": [
    "Podemos observar una distribución igualitaria entre clientes de ambos géneros."
   ]
  },
  {
   "cell_type": "code",
   "execution_count": 2467,
   "metadata": {
    "scrolled": true
   },
   "outputs": [
    {
     "name": "stdout",
     "output_type": "stream",
     "text": [
      "Porcentaje de clientes: \n",
      " 0    0.837853\n",
      "1    0.162147\n",
      "Name: senior_citizen, dtype: float64\n"
     ]
    },
    {
     "data": {
      "image/png": "[encoded data removed]",
      "text/plain": [
       "<Figure size 432x288 with 1 Axes>"
      ]
     },
     "metadata": {
      "needs_background": "light"
     },
     "output_type": "display_data"
    }
   ],
   "source": [
    "df_personal['senior_citizen'].value_counts().plot(kind='bar')\n",
    "print('Porcentaje de clientes:', '\\n', df_personal['senior_citizen'].value_counts() / df_personal['senior_citizen'].value_counts().sum())"
   ]
  },
  {
   "cell_type": "markdown",
   "metadata": {},
   "source": [
    "El 84% de los clientes son considerados por debajo del rango de edad senior, solamente el 16% son considerados senior."
   ]
  },
  {
   "cell_type": "code",
   "execution_count": 2468,
   "metadata": {},
   "outputs": [
    {
     "name": "stdout",
     "output_type": "stream",
     "text": [
      "Porcentaje de clientes: \n",
      " No     0.516967\n",
      "Yes    0.483033\n",
      "Name: partner, dtype: float64\n"
     ]
    },
    {
     "data": {
      "image/png": "[encoded data removed]",
      "text/plain": [
       "<Figure size 432x288 with 1 Axes>"
      ]
     },
     "metadata": {
      "needs_background": "light"
     },
     "output_type": "display_data"
    }
   ],
   "source": [
    "df_personal['partner'].value_counts().plot(kind='bar')\n",
    "print('Porcentaje de clientes:', '\\n', df_personal['partner'].value_counts() / df_personal['partner'].value_counts().sum())"
   ]
  },
  {
   "cell_type": "markdown",
   "metadata": {},
   "source": [
    "Tenemos una distribución igual entre clientes que no son solteros o tienen pareja y aquellos que lo son."
   ]
  },
  {
   "cell_type": "code",
   "execution_count": 2469,
   "metadata": {},
   "outputs": [
    {
     "name": "stdout",
     "output_type": "stream",
     "text": [
      "Porcentaje de clientes: \n",
      " No     0.700412\n",
      "Yes    0.299588\n",
      "Name: dependents, dtype: float64\n"
     ]
    },
    {
     "data": {
      "image/png": "[encoded data removed]",
      "text/plain": [
       "<Figure size 432x288 with 1 Axes>"
      ]
     },
     "metadata": {
      "needs_background": "light"
     },
     "output_type": "display_data"
    }
   ],
   "source": [
    "df_personal['dependents'].value_counts().plot(kind='bar')\n",
    "print('Porcentaje de clientes:', '\\n', df_personal['dependents'].value_counts() / df_personal['dependents'].value_counts().sum())"
   ]
  },
  {
   "cell_type": "markdown",
   "metadata": {},
   "source": [
    "El 70% de los clientes no tienen dependientes, el 30% de ellos los tiene."
   ]
  },
  {
   "cell_type": "markdown",
   "metadata": {},
   "source": [
    "#### Preprocesamiento para Dataframe \"Internet\""
   ]
  },
  {
   "cell_type": "code",
   "execution_count": 2470,
   "metadata": {
    "scrolled": true
   },
   "outputs": [
    {
     "name": "stdout",
     "output_type": "stream",
     "text": [
      "<class 'pandas.core.frame.DataFrame'>\n",
      "RangeIndex: 5517 entries, 0 to 5516\n",
      "Data columns (total 8 columns):\n",
      " #   Column            Non-Null Count  Dtype \n",
      "---  ------            --------------  ----- \n",
      " 0   customerID        5517 non-null   object\n",
      " 1   InternetService   5517 non-null   object\n",
      " 2   OnlineSecurity    5517 non-null   object\n",
      " 3   OnlineBackup      5517 non-null   object\n",
      " 4   DeviceProtection  5517 non-null   object\n",
      " 5   TechSupport       5517 non-null   object\n",
      " 6   StreamingTV       5517 non-null   object\n",
      " 7   StreamingMovies   5517 non-null   object\n",
      "dtypes: object(8)\n",
      "memory usage: 344.9+ KB\n"
     ]
    }
   ],
   "source": [
    "df_internet.info()"
   ]
  },
  {
   "cell_type": "code",
   "execution_count": 2471,
   "metadata": {},
   "outputs": [
    {
     "data": {
      "text/html": [
       "<div>\n",
       "<style scoped>\n",
       "    .dataframe tbody tr th:only-of-type {\n",
       "        vertical-align: middle;\n",
       "    }\n",
       "\n",
       "    .dataframe tbody tr th {\n",
       "        vertical-align: top;\n",
       "    }\n",
       "\n",
       "    .dataframe thead th {\n",
       "        text-align: right;\n",
       "    }\n",
       "</style>\n",
       "<table border=\"1\" class=\"dataframe\">\n",
       "  <thead>\n",
       "    <tr style=\"text-align: right;\">\n",
       "      <th></th>\n",
       "      <th>customerID</th>\n",
       "      <th>InternetService</th>\n",
       "      <th>OnlineSecurity</th>\n",
       "      <th>OnlineBackup</th>\n",
       "      <th>DeviceProtection</th>\n",
       "      <th>TechSupport</th>\n",
       "      <th>StreamingTV</th>\n",
       "      <th>StreamingMovies</th>\n",
       "    </tr>\n",
       "  </thead>\n",
       "  <tbody>\n",
       "    <tr>\n",
       "      <th>4805</th>\n",
       "      <td>3427-GGZZI</td>\n",
       "      <td>Fiber optic</td>\n",
       "      <td>No</td>\n",
       "      <td>Yes</td>\n",
       "      <td>No</td>\n",
       "      <td>No</td>\n",
       "      <td>No</td>\n",
       "      <td>Yes</td>\n",
       "    </tr>\n",
       "  </tbody>\n",
       "</table>\n",
       "</div>"
      ],
      "text/plain": [
       "      customerID InternetService OnlineSecurity OnlineBackup DeviceProtection  \\\n",
       "4805  3427-GGZZI     Fiber optic             No          Yes               No   \n",
       "\n",
       "     TechSupport StreamingTV StreamingMovies  \n",
       "4805          No          No             Yes  "
      ]
     },
     "execution_count": 2471,
     "metadata": {},
     "output_type": "execute_result"
    }
   ],
   "source": [
    "df_internet.sample()"
   ]
  },
  {
   "cell_type": "code",
   "execution_count": 2472,
   "metadata": {},
   "outputs": [],
   "source": [
    "df_internet.columns = ['customer_ID','internet_service','online_security','online_backup','device_protection','tech_support','streaming_TV','streaming_movies']"
   ]
  },
  {
   "cell_type": "code",
   "execution_count": 2473,
   "metadata": {},
   "outputs": [
    {
     "data": {
      "text/plain": [
       "customer_ID          0\n",
       "internet_service     0\n",
       "online_security      0\n",
       "online_backup        0\n",
       "device_protection    0\n",
       "tech_support         0\n",
       "streaming_TV         0\n",
       "streaming_movies     0\n",
       "dtype: int64"
      ]
     },
     "execution_count": 2473,
     "metadata": {},
     "output_type": "execute_result"
    }
   ],
   "source": [
    "df_internet.isna().sum()"
   ]
  },
  {
   "cell_type": "code",
   "execution_count": 2474,
   "metadata": {},
   "outputs": [
    {
     "data": {
      "text/plain": [
       "customer_ID          0\n",
       "internet_service     0\n",
       "online_security      0\n",
       "online_backup        0\n",
       "device_protection    0\n",
       "tech_support         0\n",
       "streaming_TV         0\n",
       "streaming_movies     0\n",
       "dtype: int64"
      ]
     },
     "execution_count": 2474,
     "metadata": {},
     "output_type": "execute_result"
    }
   ],
   "source": [
    "df_internet[df_internet.duplicated()].count()"
   ]
  },
  {
   "cell_type": "code",
   "execution_count": 2475,
   "metadata": {},
   "outputs": [
    {
     "data": {
      "text/plain": [
       "(5517, 8)"
      ]
     },
     "execution_count": 2475,
     "metadata": {},
     "output_type": "execute_result"
    }
   ],
   "source": [
    "df_internet.shape"
   ]
  },
  {
   "cell_type": "markdown",
   "metadata": {},
   "source": [
    "#### Análisis exploratorio de datos para  \"Internet\""
   ]
  },
  {
   "cell_type": "code",
   "execution_count": 2476,
   "metadata": {},
   "outputs": [
    {
     "name": "stdout",
     "output_type": "stream",
     "text": [
      "5517\n"
     ]
    }
   ],
   "source": [
    "unique_internet = len(df_internet['customer_ID'].unique())\n",
    "print(unique_internet)"
   ]
  },
  {
   "cell_type": "code",
   "execution_count": 2477,
   "metadata": {
    "scrolled": true
   },
   "outputs": [
    {
     "name": "stdout",
     "output_type": "stream",
     "text": [
      "Porcentaje de usuarios: \n",
      " Fiber optic    0.561175\n",
      "DSL            0.438825\n",
      "Name: internet_service, dtype: float64\n"
     ]
    },
    {
     "data": {
      "image/png": "[encoded data removed]",
      "text/plain": [
       "<Figure size 432x288 with 1 Axes>"
      ]
     },
     "metadata": {
      "needs_background": "light"
     },
     "output_type": "display_data"
    }
   ],
   "source": [
    "df_internet['internet_service'].value_counts().plot(kind='bar')\n",
    "print('Porcentaje de usuarios:', '\\n', df_internet['internet_service'].value_counts() / df_internet['internet_service'].value_counts().sum())"
   ]
  },
  {
   "cell_type": "markdown",
   "metadata": {},
   "source": [
    "El 56% de los usuarios usan el servicio de configuración de red a través de fibra óptica, el 43% usa una línea telefónica o DSL."
   ]
  },
  {
   "cell_type": "code",
   "execution_count": 2478,
   "metadata": {},
   "outputs": [
    {
     "name": "stdout",
     "output_type": "stream",
     "text": [
      "Porcentaje de usuarios: \n",
      " No     0.63404\n",
      "Yes    0.36596\n",
      "Name: online_security, dtype: float64\n"
     ]
    },
    {
     "data": {
      "image/png": "[encoded data removed]",
      "text/plain": [
       "<Figure size 432x288 with 1 Axes>"
      ]
     },
     "metadata": {
      "needs_background": "light"
     },
     "output_type": "display_data"
    }
   ],
   "source": [
    "df_internet['online_security'].value_counts().plot(kind='bar')\n",
    "print('Porcentaje de usuarios:', '\\n', df_internet['online_security'].value_counts() / df_internet['online_security'].value_counts().sum())"
   ]
  },
  {
   "cell_type": "markdown",
   "metadata": {},
   "source": [
    "El 63% de los usuarios no tienen seguridad en línea contratado, el 37% sí la tiene."
   ]
  },
  {
   "cell_type": "code",
   "execution_count": 2479,
   "metadata": {
    "scrolled": true
   },
   "outputs": [
    {
     "name": "stdout",
     "output_type": "stream",
     "text": [
      "Porcentaje de usuarios: \n",
      " No     0.559724\n",
      "Yes    0.440276\n",
      "Name: online_backup, dtype: float64\n"
     ]
    },
    {
     "data": {
      "image/png": "[encoded data removed]",
      "text/plain": [
       "<Figure size 432x288 with 1 Axes>"
      ]
     },
     "metadata": {
      "needs_background": "light"
     },
     "output_type": "display_data"
    }
   ],
   "source": [
    "df_internet['online_backup'].value_counts().plot(kind='bar')\n",
    "print('Porcentaje de usuarios:', '\\n', df_internet['online_backup'].value_counts() / df_internet['online_backup'].value_counts().sum())"
   ]
  },
  {
   "cell_type": "markdown",
   "metadata": {},
   "source": [
    "El 56% de los usuarios no tienen respaldo en línea contratado, el 44% sí lo tiene."
   ]
  },
  {
   "cell_type": "code",
   "execution_count": 2480,
   "metadata": {
    "scrolled": false
   },
   "outputs": [
    {
     "name": "stdout",
     "output_type": "stream",
     "text": [
      "Porcentaje de usuarios: \n",
      " No     0.560993\n",
      "Yes    0.439007\n",
      "Name: device_protection, dtype: float64\n"
     ]
    },
    {
     "data": {
      "image/png": "[encoded data removed]",
      "text/plain": [
       "<Figure size 432x288 with 1 Axes>"
      ]
     },
     "metadata": {
      "needs_background": "light"
     },
     "output_type": "display_data"
    }
   ],
   "source": [
    "df_internet['device_protection'].value_counts().plot(kind='bar')\n",
    "print('Porcentaje de usuarios:', '\\n', df_internet['device_protection'].value_counts() / df_internet['device_protection'].value_counts().sum())"
   ]
  },
  {
   "cell_type": "markdown",
   "metadata": {},
   "source": [
    "El 56% de los usuarios no tienen protección de dispositivo contratado, el 44% sí lo tiene."
   ]
  },
  {
   "cell_type": "code",
   "execution_count": 2481,
   "metadata": {
    "scrolled": true
   },
   "outputs": [
    {
     "name": "stdout",
     "output_type": "stream",
     "text": [
      "Porcentaje de usuarios: \n",
      " No     0.629509\n",
      "Yes    0.370491\n",
      "Name: tech_support, dtype: float64\n"
     ]
    },
    {
     "data": {
      "image/png": "[encoded data removed]",
      "text/plain": [
       "<Figure size 432x288 with 1 Axes>"
      ]
     },
     "metadata": {
      "needs_background": "light"
     },
     "output_type": "display_data"
    }
   ],
   "source": [
    "df_internet['tech_support'].value_counts().plot(kind='bar')\n",
    "print('Porcentaje de usuarios:', '\\n', df_internet['tech_support'].value_counts() / df_internet['tech_support'].value_counts().sum())"
   ]
  },
  {
   "cell_type": "markdown",
   "metadata": {},
   "source": [
    "El 63% de los usuarios no tienen soporte técnico contratado, el 37% sí lo tiene."
   ]
  },
  {
   "cell_type": "code",
   "execution_count": 2482,
   "metadata": {
    "scrolled": true
   },
   "outputs": [
    {
     "name": "stdout",
     "output_type": "stream",
     "text": [
      "Porcentaje de usuarios: \n",
      " No     0.509335\n",
      "Yes    0.490665\n",
      "Name: streaming_TV, dtype: float64\n"
     ]
    },
    {
     "data": {
      "image/png": "[encoded data removed]",
      "text/plain": [
       "<Figure size 432x288 with 1 Axes>"
      ]
     },
     "metadata": {
      "needs_background": "light"
     },
     "output_type": "display_data"
    }
   ],
   "source": [
    "df_internet['streaming_TV'].value_counts().plot(kind='bar')\n",
    "print('Porcentaje de usuarios:', '\\n', df_internet['streaming_TV'].value_counts() / df_internet['streaming_TV'].value_counts().sum())"
   ]
  },
  {
   "cell_type": "markdown",
   "metadata": {},
   "source": [
    "El 51% de los usuarios no tienen streaming de TV contratado, el 49% sí lo tiene."
   ]
  },
  {
   "cell_type": "code",
   "execution_count": 2483,
   "metadata": {
    "scrolled": true
   },
   "outputs": [
    {
     "name": "stdout",
     "output_type": "stream",
     "text": [
      "Porcentaje de usuarios: \n",
      " No     0.504803\n",
      "Yes    0.495197\n",
      "Name: streaming_movies, dtype: float64\n"
     ]
    },
    {
     "data": {
      "image/png": "[encoded data removed]",
      "text/plain": [
       "<Figure size 432x288 with 1 Axes>"
      ]
     },
     "metadata": {
      "needs_background": "light"
     },
     "output_type": "display_data"
    }
   ],
   "source": [
    "df_internet['streaming_movies'].value_counts().plot(kind='bar')\n",
    "print('Porcentaje de usuarios:', '\\n', df_internet['streaming_movies'].value_counts() / df_internet['streaming_movies'].value_counts().sum())"
   ]
  },
  {
   "cell_type": "markdown",
   "metadata": {},
   "source": [
    "El 51% de los usuarios no tienen streaming de películas contratado, el 49% sí lo tiene."
   ]
  },
  {
   "cell_type": "markdown",
   "metadata": {},
   "source": [
    "#### Preprocesamiento para Dataframe \"Phone\""
   ]
  },
  {
   "cell_type": "code",
   "execution_count": 2484,
   "metadata": {},
   "outputs": [
    {
     "name": "stdout",
     "output_type": "stream",
     "text": [
      "<class 'pandas.core.frame.DataFrame'>\n",
      "RangeIndex: 6361 entries, 0 to 6360\n",
      "Data columns (total 2 columns):\n",
      " #   Column         Non-Null Count  Dtype \n",
      "---  ------         --------------  ----- \n",
      " 0   customerID     6361 non-null   object\n",
      " 1   MultipleLines  6361 non-null   object\n",
      "dtypes: object(2)\n",
      "memory usage: 99.5+ KB\n"
     ]
    }
   ],
   "source": [
    "df_phone.info()"
   ]
  },
  {
   "cell_type": "code",
   "execution_count": 2485,
   "metadata": {},
   "outputs": [
    {
     "data": {
      "text/html": [
       "<div>\n",
       "<style scoped>\n",
       "    .dataframe tbody tr th:only-of-type {\n",
       "        vertical-align: middle;\n",
       "    }\n",
       "\n",
       "    .dataframe tbody tr th {\n",
       "        vertical-align: top;\n",
       "    }\n",
       "\n",
       "    .dataframe thead th {\n",
       "        text-align: right;\n",
       "    }\n",
       "</style>\n",
       "<table border=\"1\" class=\"dataframe\">\n",
       "  <thead>\n",
       "    <tr style=\"text-align: right;\">\n",
       "      <th></th>\n",
       "      <th>customerID</th>\n",
       "      <th>MultipleLines</th>\n",
       "    </tr>\n",
       "  </thead>\n",
       "  <tbody>\n",
       "    <tr>\n",
       "      <th>4123</th>\n",
       "      <td>4355-HBJHH</td>\n",
       "      <td>Yes</td>\n",
       "    </tr>\n",
       "  </tbody>\n",
       "</table>\n",
       "</div>"
      ],
      "text/plain": [
       "      customerID MultipleLines\n",
       "4123  4355-HBJHH           Yes"
      ]
     },
     "execution_count": 2485,
     "metadata": {},
     "output_type": "execute_result"
    }
   ],
   "source": [
    "df_phone.sample()"
   ]
  },
  {
   "cell_type": "code",
   "execution_count": 2486,
   "metadata": {},
   "outputs": [],
   "source": [
    "df_phone.columns = ['customer_ID','multiple_lines']"
   ]
  },
  {
   "cell_type": "code",
   "execution_count": 2487,
   "metadata": {},
   "outputs": [
    {
     "data": {
      "text/plain": [
       "customer_ID       0\n",
       "multiple_lines    0\n",
       "dtype: int64"
      ]
     },
     "execution_count": 2487,
     "metadata": {},
     "output_type": "execute_result"
    }
   ],
   "source": [
    "df_phone.isna().sum()"
   ]
  },
  {
   "cell_type": "code",
   "execution_count": 2488,
   "metadata": {},
   "outputs": [
    {
     "data": {
      "text/plain": [
       "customer_ID       0\n",
       "multiple_lines    0\n",
       "dtype: int64"
      ]
     },
     "execution_count": 2488,
     "metadata": {},
     "output_type": "execute_result"
    }
   ],
   "source": [
    "df_phone[df_phone.duplicated()].count()"
   ]
  },
  {
   "cell_type": "code",
   "execution_count": 2489,
   "metadata": {},
   "outputs": [
    {
     "data": {
      "text/plain": [
       "(6361, 2)"
      ]
     },
     "execution_count": 2489,
     "metadata": {},
     "output_type": "execute_result"
    }
   ],
   "source": [
    "df_phone.shape"
   ]
  },
  {
   "cell_type": "markdown",
   "metadata": {},
   "source": [
    "#### Análisis exploratorio de datos para \"Phone\""
   ]
  },
  {
   "cell_type": "code",
   "execution_count": 2490,
   "metadata": {},
   "outputs": [
    {
     "name": "stdout",
     "output_type": "stream",
     "text": [
      "6361\n"
     ]
    }
   ],
   "source": [
    "unique_phone = len(df_phone['customer_ID'].unique())\n",
    "print(unique_phone)"
   ]
  },
  {
   "cell_type": "code",
   "execution_count": 2491,
   "metadata": {
    "scrolled": true
   },
   "outputs": [
    {
     "name": "stdout",
     "output_type": "stream",
     "text": [
      "Porcentaje de usuarios: \n",
      " No     0.532935\n",
      "Yes    0.467065\n",
      "Name: multiple_lines, dtype: float64\n"
     ]
    },
    {
     "data": {
      "image/png": "[encoded data removed]",
      "text/plain": [
       "<Figure size 432x288 with 1 Axes>"
      ]
     },
     "metadata": {
      "needs_background": "light"
     },
     "output_type": "display_data"
    }
   ],
   "source": [
    "df_phone['multiple_lines'].value_counts().plot(kind='bar')\n",
    "print('Porcentaje de usuarios:', '\\n', df_phone['multiple_lines'].value_counts() / df_phone['multiple_lines'].value_counts().sum())"
   ]
  },
  {
   "cell_type": "markdown",
   "metadata": {},
   "source": [
    "El 53% de los usuarios no tienen múltiples líneas contratadas, el 47% sí lo tiene."
   ]
  },
  {
   "cell_type": "markdown",
   "metadata": {},
   "source": [
    "### Preguntas aclaratorias"
   ]
  },
  {
   "cell_type": "markdown",
   "metadata": {},
   "source": [
    "1. ¿Es la separación de servicios contratados de telefonía e internet observada en el EDA consistente para los dos géneros, rango de edad, estado civil y condición de dependientes? Esto es, ¿se repite la misma distribución en cada subgrupo de clientes?  "
   ]
  },
  {
   "cell_type": "markdown",
   "metadata": {},
   "source": [
    "2. Existe una desconexión entre el número de clientes registrados en los archivos de contrato, internet y telefonía. ¿Es conveniente rellenar los datos faltantes con medias o medianas para los clientes no registrados en los archivos de internet y telefonía? ¿Con qué datos numéricos?"
   ]
  },
  {
   "cell_type": "code",
   "execution_count": 2492,
   "metadata": {},
   "outputs": [],
   "source": [
    "users_dict = {\n",
    "    'file': ['personal','contract', 'internet', 'phone'],\n",
    "        'users': [7043, 7043, 5517, 6361]\n",
    "} \n",
    "users = pd.DataFrame(users_dict)"
   ]
  },
  {
   "cell_type": "code",
   "execution_count": 2493,
   "metadata": {
    "scrolled": true
   },
   "outputs": [
    {
     "data": {
      "text/html": [
       "<div>\n",
       "<style scoped>\n",
       "    .dataframe tbody tr th:only-of-type {\n",
       "        vertical-align: middle;\n",
       "    }\n",
       "\n",
       "    .dataframe tbody tr th {\n",
       "        vertical-align: top;\n",
       "    }\n",
       "\n",
       "    .dataframe thead th {\n",
       "        text-align: right;\n",
       "    }\n",
       "</style>\n",
       "<table border=\"1\" class=\"dataframe\">\n",
       "  <thead>\n",
       "    <tr style=\"text-align: right;\">\n",
       "      <th></th>\n",
       "      <th>file</th>\n",
       "      <th>users</th>\n",
       "    </tr>\n",
       "  </thead>\n",
       "  <tbody>\n",
       "    <tr>\n",
       "      <th>0</th>\n",
       "      <td>personal</td>\n",
       "      <td>7043</td>\n",
       "    </tr>\n",
       "    <tr>\n",
       "      <th>1</th>\n",
       "      <td>contract</td>\n",
       "      <td>7043</td>\n",
       "    </tr>\n",
       "    <tr>\n",
       "      <th>2</th>\n",
       "      <td>internet</td>\n",
       "      <td>5517</td>\n",
       "    </tr>\n",
       "    <tr>\n",
       "      <th>3</th>\n",
       "      <td>phone</td>\n",
       "      <td>6361</td>\n",
       "    </tr>\n",
       "  </tbody>\n",
       "</table>\n",
       "</div>"
      ],
      "text/plain": [
       "       file  users\n",
       "0  personal   7043\n",
       "1  contract   7043\n",
       "2  internet   5517\n",
       "3     phone   6361"
      ]
     },
     "execution_count": 2493,
     "metadata": {},
     "output_type": "execute_result"
    }
   ],
   "source": [
    "users"
   ]
  },
  {
   "cell_type": "markdown",
   "metadata": {},
   "source": [
    "3. ¿Cuántos de los IDs de clientes son coincidentes entre los diferentes archivos? ¿Qué resultado tendrá esto cuando se haga la unión de DataFrames?"
   ]
  },
  {
   "cell_type": "markdown",
   "metadata": {},
   "source": [
    "4. ¿Consideran que Monthly_Charge y Total_Charge son columnas relevantes para determinar los paquetes contratados por los clientes y en en su caso, serán relevantes para determinar la permanencia de los clientes?"
   ]
  },
  {
   "cell_type": "markdown",
   "metadata": {},
   "source": [
    "### Plan de resolución"
   ]
  },
  {
   "cell_type": "markdown",
   "metadata": {},
   "source": [
    "- Inicialmente será necesario determinar los IDs de clientes que contienen toda la información disponible para su uso como características de un modelo a entrenar."
   ]
  },
  {
   "cell_type": "markdown",
   "metadata": {},
   "source": [
    "- Es necesario discutir cuáles son aquellas características que son de mayor relevancia para determinar la estancia del cliente en la compañia, pensando que el modelo es una clasificación donde 0 es permanencia y 1 es salida."
   ]
  },
  {
   "cell_type": "markdown",
   "metadata": {},
   "source": [
    "- Posteriormente, para poder entrenar un modelo de clasificación es necesario hacer una unión de los archivos analizados en uno solo, descartando las columnas y filas que no serán requeridas."
   ]
  },
  {
   "cell_type": "markdown",
   "metadata": {},
   "source": [
    "- Será necesario cambiar los datos a clasificación de etiquetas para probar los modelos de clasificación de árbol de decisión y bosque aleatorio, para el modelo de regresión logística se requerirá hacer la codificación de One-Hot. "
   ]
  },
  {
   "cell_type": "markdown",
   "metadata": {},
   "source": [
    "- Se entrenaran y validarán al menos tres modelos diferentes utilizando el set de datos de entrenamiento y validación, y se obtendrán las métricas requeridas por el proyecto para determinar cuál es la más óptima."
   ]
  },
  {
   "cell_type": "markdown",
   "metadata": {},
   "source": [
    "- Finalmente se utilizará el set de prueba para correr con el modelo entrenado que haya mostrado mejor desempeño con los datos de validación."
   ]
  },
  {
   "cell_type": "markdown",
   "metadata": {},
   "source": [
    "### Procesamiento secundario de datos"
   ]
  },
  {
   "cell_type": "markdown",
   "metadata": {},
   "source": [
    "#### Inicialización de librerías para los modelos de clasificación"
   ]
  },
  {
   "cell_type": "code",
   "execution_count": 2494,
   "metadata": {},
   "outputs": [],
   "source": [
    "from sklearn.tree import DecisionTreeClassifier\n",
    "from sklearn.ensemble import RandomForestClassifier\n",
    "from sklearn.linear_model import LogisticRegression\n",
    "from sklearn.preprocessing import OrdinalEncoder\n",
    "from sklearn.utils import shuffle\n",
    "from sklearn.model_selection import train_test_split\n",
    "\n",
    "from sklearn.metrics import confusion_matrix\n",
    "from sklearn.metrics import accuracy_score\n",
    "from sklearn.metrics import recall_score\n",
    "from sklearn.metrics import precision_score\n",
    "from sklearn.metrics import f1_score\n",
    "from sklearn.metrics import classification_report\n",
    "\n",
    "from sklearn.metrics import roc_curve\n",
    "from sklearn.metrics import roc_auc_score"
   ]
  },
  {
   "cell_type": "markdown",
   "metadata": {},
   "source": [
    "#### Unión de los archivos para obtener las características"
   ]
  },
  {
   "cell_type": "code",
   "execution_count": 2495,
   "metadata": {},
   "outputs": [],
   "source": [
    "merged_df = pd.merge(df_contract, df_personal, on='customer_ID', how='outer')"
   ]
  },
  {
   "cell_type": "code",
   "execution_count": 2496,
   "metadata": {},
   "outputs": [],
   "source": [
    "merged_df = pd.merge(merged_df, df_internet, on='customer_ID', how='outer')"
   ]
  },
  {
   "cell_type": "code",
   "execution_count": 2497,
   "metadata": {},
   "outputs": [],
   "source": [
    "merged_df = pd.merge(merged_df, df_phone, on='customer_ID', how='outer')"
   ]
  },
  {
   "cell_type": "code",
   "execution_count": 2498,
   "metadata": {},
   "outputs": [
    {
     "data": {
      "text/html": [
       "<div>\n",
       "<style scoped>\n",
       "    .dataframe tbody tr th:only-of-type {\n",
       "        vertical-align: middle;\n",
       "    }\n",
       "\n",
       "    .dataframe tbody tr th {\n",
       "        vertical-align: top;\n",
       "    }\n",
       "\n",
       "    .dataframe thead th {\n",
       "        text-align: right;\n",
       "    }\n",
       "</style>\n",
       "<table border=\"1\" class=\"dataframe\">\n",
       "  <thead>\n",
       "    <tr style=\"text-align: right;\">\n",
       "      <th></th>\n",
       "      <th>customer_ID</th>\n",
       "      <th>begin_date</th>\n",
       "      <th>end_date</th>\n",
       "      <th>type</th>\n",
       "      <th>paperless_billing</th>\n",
       "      <th>payment_method</th>\n",
       "      <th>monthly_charges</th>\n",
       "      <th>total_charges</th>\n",
       "      <th>gender</th>\n",
       "      <th>senior_citizen</th>\n",
       "      <th>partner</th>\n",
       "      <th>dependents</th>\n",
       "      <th>internet_service</th>\n",
       "      <th>online_security</th>\n",
       "      <th>online_backup</th>\n",
       "      <th>device_protection</th>\n",
       "      <th>tech_support</th>\n",
       "      <th>streaming_TV</th>\n",
       "      <th>streaming_movies</th>\n",
       "      <th>multiple_lines</th>\n",
       "    </tr>\n",
       "  </thead>\n",
       "  <tbody>\n",
       "    <tr>\n",
       "      <th>0</th>\n",
       "      <td>7590-VHVEG</td>\n",
       "      <td>2020-01-01</td>\n",
       "      <td>No</td>\n",
       "      <td>Month-to-month</td>\n",
       "      <td>Yes</td>\n",
       "      <td>Electronic check</td>\n",
       "      <td>29.85</td>\n",
       "      <td>29.85</td>\n",
       "      <td>Female</td>\n",
       "      <td>0</td>\n",
       "      <td>Yes</td>\n",
       "      <td>No</td>\n",
       "      <td>DSL</td>\n",
       "      <td>No</td>\n",
       "      <td>Yes</td>\n",
       "      <td>No</td>\n",
       "      <td>No</td>\n",
       "      <td>No</td>\n",
       "      <td>No</td>\n",
       "      <td>NaN</td>\n",
       "    </tr>\n",
       "    <tr>\n",
       "      <th>1</th>\n",
       "      <td>5575-GNVDE</td>\n",
       "      <td>2017-04-01</td>\n",
       "      <td>No</td>\n",
       "      <td>One year</td>\n",
       "      <td>No</td>\n",
       "      <td>Mailed check</td>\n",
       "      <td>56.95</td>\n",
       "      <td>1889.50</td>\n",
       "      <td>Male</td>\n",
       "      <td>0</td>\n",
       "      <td>No</td>\n",
       "      <td>No</td>\n",
       "      <td>DSL</td>\n",
       "      <td>Yes</td>\n",
       "      <td>No</td>\n",
       "      <td>Yes</td>\n",
       "      <td>No</td>\n",
       "      <td>No</td>\n",
       "      <td>No</td>\n",
       "      <td>No</td>\n",
       "    </tr>\n",
       "    <tr>\n",
       "      <th>2</th>\n",
       "      <td>3668-QPYBK</td>\n",
       "      <td>2019-10-01</td>\n",
       "      <td>2019-12-01 00:00:00</td>\n",
       "      <td>Month-to-month</td>\n",
       "      <td>Yes</td>\n",
       "      <td>Mailed check</td>\n",
       "      <td>53.85</td>\n",
       "      <td>108.15</td>\n",
       "      <td>Male</td>\n",
       "      <td>0</td>\n",
       "      <td>No</td>\n",
       "      <td>No</td>\n",
       "      <td>DSL</td>\n",
       "      <td>Yes</td>\n",
       "      <td>Yes</td>\n",
       "      <td>No</td>\n",
       "      <td>No</td>\n",
       "      <td>No</td>\n",
       "      <td>No</td>\n",
       "      <td>No</td>\n",
       "    </tr>\n",
       "    <tr>\n",
       "      <th>3</th>\n",
       "      <td>7795-CFOCW</td>\n",
       "      <td>2016-05-01</td>\n",
       "      <td>No</td>\n",
       "      <td>One year</td>\n",
       "      <td>No</td>\n",
       "      <td>Bank transfer (automatic)</td>\n",
       "      <td>42.30</td>\n",
       "      <td>1840.75</td>\n",
       "      <td>Male</td>\n",
       "      <td>0</td>\n",
       "      <td>No</td>\n",
       "      <td>No</td>\n",
       "      <td>DSL</td>\n",
       "      <td>Yes</td>\n",
       "      <td>No</td>\n",
       "      <td>Yes</td>\n",
       "      <td>Yes</td>\n",
       "      <td>No</td>\n",
       "      <td>No</td>\n",
       "      <td>NaN</td>\n",
       "    </tr>\n",
       "    <tr>\n",
       "      <th>4</th>\n",
       "      <td>9237-HQITU</td>\n",
       "      <td>2019-09-01</td>\n",
       "      <td>2019-11-01 00:00:00</td>\n",
       "      <td>Month-to-month</td>\n",
       "      <td>Yes</td>\n",
       "      <td>Electronic check</td>\n",
       "      <td>70.70</td>\n",
       "      <td>151.65</td>\n",
       "      <td>Female</td>\n",
       "      <td>0</td>\n",
       "      <td>No</td>\n",
       "      <td>No</td>\n",
       "      <td>Fiber optic</td>\n",
       "      <td>No</td>\n",
       "      <td>No</td>\n",
       "      <td>No</td>\n",
       "      <td>No</td>\n",
       "      <td>No</td>\n",
       "      <td>No</td>\n",
       "      <td>No</td>\n",
       "    </tr>\n",
       "  </tbody>\n",
       "</table>\n",
       "</div>"
      ],
      "text/plain": [
       "  customer_ID begin_date             end_date            type  \\\n",
       "0  7590-VHVEG 2020-01-01                   No  Month-to-month   \n",
       "1  5575-GNVDE 2017-04-01                   No        One year   \n",
       "2  3668-QPYBK 2019-10-01  2019-12-01 00:00:00  Month-to-month   \n",
       "3  7795-CFOCW 2016-05-01                   No        One year   \n",
       "4  9237-HQITU 2019-09-01  2019-11-01 00:00:00  Month-to-month   \n",
       "\n",
       "  paperless_billing             payment_method  monthly_charges  \\\n",
       "0               Yes           Electronic check            29.85   \n",
       "1                No               Mailed check            56.95   \n",
       "2               Yes               Mailed check            53.85   \n",
       "3                No  Bank transfer (automatic)            42.30   \n",
       "4               Yes           Electronic check            70.70   \n",
       "\n",
       "   total_charges  gender  senior_citizen partner dependents internet_service  \\\n",
       "0          29.85  Female               0     Yes         No              DSL   \n",
       "1        1889.50    Male               0      No         No              DSL   \n",
       "2         108.15    Male               0      No         No              DSL   \n",
       "3        1840.75    Male               0      No         No              DSL   \n",
       "4         151.65  Female               0      No         No      Fiber optic   \n",
       "\n",
       "  online_security online_backup device_protection tech_support streaming_TV  \\\n",
       "0              No           Yes                No           No           No   \n",
       "1             Yes            No               Yes           No           No   \n",
       "2             Yes           Yes                No           No           No   \n",
       "3             Yes            No               Yes          Yes           No   \n",
       "4              No            No                No           No           No   \n",
       "\n",
       "  streaming_movies multiple_lines  \n",
       "0               No            NaN  \n",
       "1               No             No  \n",
       "2               No             No  \n",
       "3               No            NaN  \n",
       "4               No             No  "
      ]
     },
     "execution_count": 2498,
     "metadata": {},
     "output_type": "execute_result"
    }
   ],
   "source": [
    "merged_df.head()"
   ]
  },
  {
   "cell_type": "code",
   "execution_count": 2499,
   "metadata": {},
   "outputs": [
    {
     "data": {
      "text/plain": [
       "(7043, 20)"
      ]
     },
     "execution_count": 2499,
     "metadata": {},
     "output_type": "execute_result"
    }
   ],
   "source": [
    "merged_df.shape"
   ]
  },
  {
   "cell_type": "code",
   "execution_count": 2500,
   "metadata": {},
   "outputs": [
    {
     "data": {
      "text/plain": [
       "customer_ID             0\n",
       "begin_date             11\n",
       "end_date               11\n",
       "type                   11\n",
       "paperless_billing      11\n",
       "payment_method         11\n",
       "monthly_charges        11\n",
       "total_charges          11\n",
       "gender                  0\n",
       "senior_citizen          0\n",
       "partner                 0\n",
       "dependents              0\n",
       "internet_service     1526\n",
       "online_security      1526\n",
       "online_backup        1526\n",
       "device_protection    1526\n",
       "tech_support         1526\n",
       "streaming_TV         1526\n",
       "streaming_movies     1526\n",
       "multiple_lines        682\n",
       "dtype: int64"
      ]
     },
     "execution_count": 2500,
     "metadata": {},
     "output_type": "execute_result"
    }
   ],
   "source": [
    "merged_df.isna().sum()"
   ]
  },
  {
   "cell_type": "markdown",
   "metadata": {},
   "source": [
    "Hasta este punto tenemos un DataFrame unido por Customer_ID con todas las características que consideramos relevantes, esto es:\n",
    "- type                 \n",
    "- paperless_billing      \n",
    "- payment_method                \n",
    "- gender                  \n",
    "- senior_citizen          \n",
    "- partner                 \n",
    "- dependents              \n",
    "- internet_service     \n",
    "- online_security      \n",
    "- online_backup        \n",
    "- device_protection    \n",
    "- tech_support         \n",
    "- streaming_TV         \n",
    "- streaming_movies     \n",
    "- multiple_lines  \n",
    "\n",
    "A continuación vamos a trabajar con monthly charges, total charges, end date y begin date para que puedan también ser usados como características en el modelo de manera más adecuada. También vamos a crear una columna contract_end que funcione como nuestro target para el modelo."
   ]
  },
  {
   "cell_type": "markdown",
   "metadata": {},
   "source": [
    "#### Procesamiento para objetivos y características"
   ]
  },
  {
   "cell_type": "markdown",
   "metadata": {},
   "source": [
    "##### Monthly charges group"
   ]
  },
  {
   "cell_type": "code",
   "execution_count": 2501,
   "metadata": {},
   "outputs": [],
   "source": [
    "def monthly_charges_group(row):\n",
    "    monthly_charges_row = row['monthly_charges']\n",
    "    \n",
    "    if monthly_charges_row <= 20:\n",
    "        return 'a'\n",
    "    if monthly_charges_row <= 40:\n",
    "        return 'b'\n",
    "    if monthly_charges_row <= 60:\n",
    "        return 'c'\n",
    "    if monthly_charges_row <= 80:\n",
    "        return 'd'\n",
    "    if monthly_charges_row <= 100:\n",
    "        return 'e'\n",
    "    if monthly_charges_row <= 120:\n",
    "        return 'f'"
   ]
  },
  {
   "cell_type": "code",
   "execution_count": 2502,
   "metadata": {},
   "outputs": [],
   "source": [
    "merged_df['monthly_charges_group'] = merged_df.apply(monthly_charges_group, axis=1)"
   ]
  },
  {
   "cell_type": "markdown",
   "metadata": {},
   "source": [
    "##### Total charges group"
   ]
  },
  {
   "cell_type": "code",
   "execution_count": 2503,
   "metadata": {},
   "outputs": [],
   "source": [
    "def total_charges_group(row):\n",
    "    total_charges_row = row['total_charges']\n",
    "    \n",
    "    if total_charges_row <= 2000:\n",
    "        return 'a'\n",
    "    if total_charges_row <= 4000:\n",
    "        return 'b'\n",
    "    if total_charges_row <= 6000:\n",
    "        return 'c'\n",
    "    if total_charges_row <= 8000:\n",
    "        return 'd'\n",
    "    if total_charges_row <= 10000:\n",
    "        return 'e'"
   ]
  },
  {
   "cell_type": "code",
   "execution_count": 2504,
   "metadata": {},
   "outputs": [],
   "source": [
    "merged_df['total_charges_group'] = merged_df.apply(total_charges_group, axis=1)"
   ]
  },
  {
   "cell_type": "code",
   "execution_count": 2505,
   "metadata": {
    "scrolled": true
   },
   "outputs": [
    {
     "data": {
      "text/html": [
       "<div>\n",
       "<style scoped>\n",
       "    .dataframe tbody tr th:only-of-type {\n",
       "        vertical-align: middle;\n",
       "    }\n",
       "\n",
       "    .dataframe tbody tr th {\n",
       "        vertical-align: top;\n",
       "    }\n",
       "\n",
       "    .dataframe thead th {\n",
       "        text-align: right;\n",
       "    }\n",
       "</style>\n",
       "<table border=\"1\" class=\"dataframe\">\n",
       "  <thead>\n",
       "    <tr style=\"text-align: right;\">\n",
       "      <th></th>\n",
       "      <th>customer_ID</th>\n",
       "      <th>begin_date</th>\n",
       "      <th>end_date</th>\n",
       "      <th>type</th>\n",
       "      <th>paperless_billing</th>\n",
       "      <th>payment_method</th>\n",
       "      <th>monthly_charges</th>\n",
       "      <th>total_charges</th>\n",
       "      <th>gender</th>\n",
       "      <th>senior_citizen</th>\n",
       "      <th>...</th>\n",
       "      <th>internet_service</th>\n",
       "      <th>online_security</th>\n",
       "      <th>online_backup</th>\n",
       "      <th>device_protection</th>\n",
       "      <th>tech_support</th>\n",
       "      <th>streaming_TV</th>\n",
       "      <th>streaming_movies</th>\n",
       "      <th>multiple_lines</th>\n",
       "      <th>monthly_charges_group</th>\n",
       "      <th>total_charges_group</th>\n",
       "    </tr>\n",
       "  </thead>\n",
       "  <tbody>\n",
       "    <tr>\n",
       "      <th>0</th>\n",
       "      <td>7590-VHVEG</td>\n",
       "      <td>2020-01-01</td>\n",
       "      <td>No</td>\n",
       "      <td>Month-to-month</td>\n",
       "      <td>Yes</td>\n",
       "      <td>Electronic check</td>\n",
       "      <td>29.85</td>\n",
       "      <td>29.85</td>\n",
       "      <td>Female</td>\n",
       "      <td>0</td>\n",
       "      <td>...</td>\n",
       "      <td>DSL</td>\n",
       "      <td>No</td>\n",
       "      <td>Yes</td>\n",
       "      <td>No</td>\n",
       "      <td>No</td>\n",
       "      <td>No</td>\n",
       "      <td>No</td>\n",
       "      <td>NaN</td>\n",
       "      <td>b</td>\n",
       "      <td>a</td>\n",
       "    </tr>\n",
       "    <tr>\n",
       "      <th>1</th>\n",
       "      <td>5575-GNVDE</td>\n",
       "      <td>2017-04-01</td>\n",
       "      <td>No</td>\n",
       "      <td>One year</td>\n",
       "      <td>No</td>\n",
       "      <td>Mailed check</td>\n",
       "      <td>56.95</td>\n",
       "      <td>1889.50</td>\n",
       "      <td>Male</td>\n",
       "      <td>0</td>\n",
       "      <td>...</td>\n",
       "      <td>DSL</td>\n",
       "      <td>Yes</td>\n",
       "      <td>No</td>\n",
       "      <td>Yes</td>\n",
       "      <td>No</td>\n",
       "      <td>No</td>\n",
       "      <td>No</td>\n",
       "      <td>No</td>\n",
       "      <td>c</td>\n",
       "      <td>a</td>\n",
       "    </tr>\n",
       "    <tr>\n",
       "      <th>2</th>\n",
       "      <td>3668-QPYBK</td>\n",
       "      <td>2019-10-01</td>\n",
       "      <td>2019-12-01 00:00:00</td>\n",
       "      <td>Month-to-month</td>\n",
       "      <td>Yes</td>\n",
       "      <td>Mailed check</td>\n",
       "      <td>53.85</td>\n",
       "      <td>108.15</td>\n",
       "      <td>Male</td>\n",
       "      <td>0</td>\n",
       "      <td>...</td>\n",
       "      <td>DSL</td>\n",
       "      <td>Yes</td>\n",
       "      <td>Yes</td>\n",
       "      <td>No</td>\n",
       "      <td>No</td>\n",
       "      <td>No</td>\n",
       "      <td>No</td>\n",
       "      <td>No</td>\n",
       "      <td>c</td>\n",
       "      <td>a</td>\n",
       "    </tr>\n",
       "    <tr>\n",
       "      <th>3</th>\n",
       "      <td>7795-CFOCW</td>\n",
       "      <td>2016-05-01</td>\n",
       "      <td>No</td>\n",
       "      <td>One year</td>\n",
       "      <td>No</td>\n",
       "      <td>Bank transfer (automatic)</td>\n",
       "      <td>42.30</td>\n",
       "      <td>1840.75</td>\n",
       "      <td>Male</td>\n",
       "      <td>0</td>\n",
       "      <td>...</td>\n",
       "      <td>DSL</td>\n",
       "      <td>Yes</td>\n",
       "      <td>No</td>\n",
       "      <td>Yes</td>\n",
       "      <td>Yes</td>\n",
       "      <td>No</td>\n",
       "      <td>No</td>\n",
       "      <td>NaN</td>\n",
       "      <td>c</td>\n",
       "      <td>a</td>\n",
       "    </tr>\n",
       "    <tr>\n",
       "      <th>4</th>\n",
       "      <td>9237-HQITU</td>\n",
       "      <td>2019-09-01</td>\n",
       "      <td>2019-11-01 00:00:00</td>\n",
       "      <td>Month-to-month</td>\n",
       "      <td>Yes</td>\n",
       "      <td>Electronic check</td>\n",
       "      <td>70.70</td>\n",
       "      <td>151.65</td>\n",
       "      <td>Female</td>\n",
       "      <td>0</td>\n",
       "      <td>...</td>\n",
       "      <td>Fiber optic</td>\n",
       "      <td>No</td>\n",
       "      <td>No</td>\n",
       "      <td>No</td>\n",
       "      <td>No</td>\n",
       "      <td>No</td>\n",
       "      <td>No</td>\n",
       "      <td>No</td>\n",
       "      <td>d</td>\n",
       "      <td>a</td>\n",
       "    </tr>\n",
       "  </tbody>\n",
       "</table>\n",
       "<p>5 rows × 22 columns</p>\n",
       "</div>"
      ],
      "text/plain": [
       "  customer_ID begin_date             end_date            type  \\\n",
       "0  7590-VHVEG 2020-01-01                   No  Month-to-month   \n",
       "1  5575-GNVDE 2017-04-01                   No        One year   \n",
       "2  3668-QPYBK 2019-10-01  2019-12-01 00:00:00  Month-to-month   \n",
       "3  7795-CFOCW 2016-05-01                   No        One year   \n",
       "4  9237-HQITU 2019-09-01  2019-11-01 00:00:00  Month-to-month   \n",
       "\n",
       "  paperless_billing             payment_method  monthly_charges  \\\n",
       "0               Yes           Electronic check            29.85   \n",
       "1                No               Mailed check            56.95   \n",
       "2               Yes               Mailed check            53.85   \n",
       "3                No  Bank transfer (automatic)            42.30   \n",
       "4               Yes           Electronic check            70.70   \n",
       "\n",
       "   total_charges  gender  senior_citizen  ... internet_service  \\\n",
       "0          29.85  Female               0  ...              DSL   \n",
       "1        1889.50    Male               0  ...              DSL   \n",
       "2         108.15    Male               0  ...              DSL   \n",
       "3        1840.75    Male               0  ...              DSL   \n",
       "4         151.65  Female               0  ...      Fiber optic   \n",
       "\n",
       "  online_security online_backup device_protection tech_support streaming_TV  \\\n",
       "0              No           Yes                No           No           No   \n",
       "1             Yes            No               Yes           No           No   \n",
       "2             Yes           Yes                No           No           No   \n",
       "3             Yes            No               Yes          Yes           No   \n",
       "4              No            No                No           No           No   \n",
       "\n",
       "  streaming_movies multiple_lines monthly_charges_group total_charges_group  \n",
       "0               No            NaN                     b                   a  \n",
       "1               No             No                     c                   a  \n",
       "2               No             No                     c                   a  \n",
       "3               No            NaN                     c                   a  \n",
       "4               No             No                     d                   a  \n",
       "\n",
       "[5 rows x 22 columns]"
      ]
     },
     "execution_count": 2505,
     "metadata": {},
     "output_type": "execute_result"
    }
   ],
   "source": [
    "merged_df.head()"
   ]
  },
  {
   "cell_type": "markdown",
   "metadata": {},
   "source": [
    "##### Begin_date y End_date"
   ]
  },
  {
   "cell_type": "code",
   "execution_count": 2506,
   "metadata": {},
   "outputs": [],
   "source": [
    "merged_df['begin_year'] = merged_df['begin_date'].dt.year\n",
    "merged_df['begin_month'] = merged_df['begin_date'].dt.month"
   ]
  },
  {
   "cell_type": "markdown",
   "metadata": {},
   "source": [
    "##### Contract_end"
   ]
  },
  {
   "cell_type": "code",
   "execution_count": 2507,
   "metadata": {},
   "outputs": [],
   "source": [
    "merged_df['contract_end'] = merged_df['end_date'].where(merged_df['end_date']=='No','Yes')"
   ]
  },
  {
   "cell_type": "markdown",
   "metadata": {},
   "source": [
    "##### Valores ausentes"
   ]
  },
  {
   "cell_type": "markdown",
   "metadata": {},
   "source": [
    "A continuación, he decidido adoptar una estrategia de relleno de valores ausentes que privilegie el grupo de cargo mensual y el tipo de contrato para rellenar los ausentes de servicio en donde éstos se requieran, esto en acuerdo con el EDA inicial en donde se observó que el cargo mensual cubre un amplio espectro mientras que los servicios están divididos de manera binaria en porcentajes similares. Por ejemplo, para rellenar internet service, los datos me indican que el plan a tiende a ser solamente DSL, mientras que el plan b en adelante son de fibra óptica."
   ]
  },
  {
   "cell_type": "markdown",
   "metadata": {},
   "source": [
    "Esta estrategia me parece conveniente porque también se evita el sesgo de asignar un valor de relleno basado en el género, seniority, partnership y dependents. Los cuales no son definitorios para predecir el tipo de servicio que contrata el usuario donde los datos son faltantes."
   ]
  },
  {
   "cell_type": "code",
   "execution_count": 2508,
   "metadata": {},
   "outputs": [],
   "source": [
    "merged_df['internet_service'].fillna('unknown',inplace=True)\n",
    "merged_df['online_security'].fillna('unknown',inplace=True)\n",
    "merged_df['online_backup'].fillna('unknown',inplace=True)\n",
    "merged_df['device_protection'].fillna('unknown',inplace=True)\n",
    "merged_df['tech_support'].fillna('unknown',inplace=True)\n",
    "merged_df['streaming_TV'].fillna('unknown',inplace=True)\n",
    "merged_df['streaming_movies'].fillna('unknown',inplace=True)\n",
    "merged_df['multiple_lines'].fillna('unknown',inplace=True)"
   ]
  },
  {
   "cell_type": "code",
   "execution_count": 2509,
   "metadata": {},
   "outputs": [],
   "source": [
    "pivot_table_internet = merged_df.pivot_table(values='customer_ID',index=['monthly_charges_group','type'],columns=['internet_service'],aggfunc='count',margins=True)\n",
    "pivot_table_security = merged_df.pivot_table(values='customer_ID',index=['monthly_charges_group','type'],columns=['online_security'],aggfunc='count',margins=True)\n",
    "pivot_table_backup = merged_df.pivot_table(values='customer_ID',index=['monthly_charges_group','type'],columns=['online_backup'],aggfunc='count',margins=True)\n",
    "pivot_table_protection = merged_df.pivot_table(values='customer_ID',index=['monthly_charges_group','type'],columns=['device_protection'],aggfunc='count',margins=True)\n",
    "pivot_table_support = merged_df.pivot_table(values='customer_ID',index=['monthly_charges_group','type'],columns=['tech_support'],aggfunc='count',margins=True)\n",
    "pivot_table_streaming_TV = merged_df.pivot_table(values='customer_ID',index=['monthly_charges_group','type'],columns=['streaming_TV'],aggfunc='count',margins=True)\n",
    "pivot_table_streaming_movies = merged_df.pivot_table(values='customer_ID',index=['monthly_charges_group','type'],columns=['streaming_movies'],aggfunc='count',margins=True)\n",
    "pivot_table_multiple_lines = merged_df.pivot_table(values='customer_ID',index=['monthly_charges_group','type'],columns=['multiple_lines'],aggfunc='count',margins=True)"
   ]
  },
  {
   "cell_type": "code",
   "execution_count": 2510,
   "metadata": {},
   "outputs": [
    {
     "data": {
      "text/html": [
       "<div>\n",
       "<style scoped>\n",
       "    .dataframe tbody tr th:only-of-type {\n",
       "        vertical-align: middle;\n",
       "    }\n",
       "\n",
       "    .dataframe tbody tr th {\n",
       "        vertical-align: top;\n",
       "    }\n",
       "\n",
       "    .dataframe thead th {\n",
       "        text-align: right;\n",
       "    }\n",
       "</style>\n",
       "<table border=\"1\" class=\"dataframe\">\n",
       "  <thead>\n",
       "    <tr style=\"text-align: right;\">\n",
       "      <th></th>\n",
       "      <th>internet_service</th>\n",
       "      <th>DSL</th>\n",
       "      <th>Fiber optic</th>\n",
       "      <th>unknown</th>\n",
       "      <th>All</th>\n",
       "    </tr>\n",
       "    <tr>\n",
       "      <th>monthly_charges_group</th>\n",
       "      <th>type</th>\n",
       "      <th></th>\n",
       "      <th></th>\n",
       "      <th></th>\n",
       "      <th></th>\n",
       "    </tr>\n",
       "  </thead>\n",
       "  <tbody>\n",
       "    <tr>\n",
       "      <th rowspan=\"3\" valign=\"top\">a</th>\n",
       "      <th>Month-to-month</th>\n",
       "      <td>NaN</td>\n",
       "      <td>NaN</td>\n",
       "      <td>253.0</td>\n",
       "      <td>253</td>\n",
       "    </tr>\n",
       "    <tr>\n",
       "      <th>One year</th>\n",
       "      <td>NaN</td>\n",
       "      <td>NaN</td>\n",
       "      <td>164.0</td>\n",
       "      <td>164</td>\n",
       "    </tr>\n",
       "    <tr>\n",
       "      <th>Two year</th>\n",
       "      <td>NaN</td>\n",
       "      <td>NaN</td>\n",
       "      <td>236.0</td>\n",
       "      <td>236</td>\n",
       "    </tr>\n",
       "    <tr>\n",
       "      <th rowspan=\"3\" valign=\"top\">b</th>\n",
       "      <th>Month-to-month</th>\n",
       "      <td>238.0</td>\n",
       "      <td>NaN</td>\n",
       "      <td>271.0</td>\n",
       "      <td>509</td>\n",
       "    </tr>\n",
       "    <tr>\n",
       "      <th>One year</th>\n",
       "      <td>46.0</td>\n",
       "      <td>NaN</td>\n",
       "      <td>199.0</td>\n",
       "      <td>245</td>\n",
       "    </tr>\n",
       "    <tr>\n",
       "      <th>Two year</th>\n",
       "      <td>28.0</td>\n",
       "      <td>NaN</td>\n",
       "      <td>397.0</td>\n",
       "      <td>425</td>\n",
       "    </tr>\n",
       "    <tr>\n",
       "      <th rowspan=\"3\" valign=\"top\">c</th>\n",
       "      <th>Month-to-month</th>\n",
       "      <td>731.0</td>\n",
       "      <td>NaN</td>\n",
       "      <td>NaN</td>\n",
       "      <td>731</td>\n",
       "    </tr>\n",
       "    <tr>\n",
       "      <th>One year</th>\n",
       "      <td>213.0</td>\n",
       "      <td>NaN</td>\n",
       "      <td>NaN</td>\n",
       "      <td>213</td>\n",
       "    </tr>\n",
       "    <tr>\n",
       "      <th>Two year</th>\n",
       "      <td>134.0</td>\n",
       "      <td>NaN</td>\n",
       "      <td>NaN</td>\n",
       "      <td>134</td>\n",
       "    </tr>\n",
       "    <tr>\n",
       "      <th rowspan=\"3\" valign=\"top\">d</th>\n",
       "      <th>Month-to-month</th>\n",
       "      <td>239.0</td>\n",
       "      <td>678.0</td>\n",
       "      <td>NaN</td>\n",
       "      <td>917</td>\n",
       "    </tr>\n",
       "    <tr>\n",
       "      <th>One year</th>\n",
       "      <td>266.0</td>\n",
       "      <td>19.0</td>\n",
       "      <td>NaN</td>\n",
       "      <td>285</td>\n",
       "    </tr>\n",
       "    <tr>\n",
       "      <th>Two year</th>\n",
       "      <td>246.0</td>\n",
       "      <td>9.0</td>\n",
       "      <td>NaN</td>\n",
       "      <td>255</td>\n",
       "    </tr>\n",
       "    <tr>\n",
       "      <th rowspan=\"3\" valign=\"top\">e</th>\n",
       "      <th>Month-to-month</th>\n",
       "      <td>15.0</td>\n",
       "      <td>1126.0</td>\n",
       "      <td>NaN</td>\n",
       "      <td>1141</td>\n",
       "    </tr>\n",
       "    <tr>\n",
       "      <th>One year</th>\n",
       "      <td>45.0</td>\n",
       "      <td>247.0</td>\n",
       "      <td>NaN</td>\n",
       "      <td>292</td>\n",
       "    </tr>\n",
       "    <tr>\n",
       "      <th>Two year</th>\n",
       "      <td>215.0</td>\n",
       "      <td>115.0</td>\n",
       "      <td>NaN</td>\n",
       "      <td>330</td>\n",
       "    </tr>\n",
       "    <tr>\n",
       "      <th rowspan=\"3\" valign=\"top\">f</th>\n",
       "      <th>Month-to-month</th>\n",
       "      <td>NaN</td>\n",
       "      <td>324.0</td>\n",
       "      <td>NaN</td>\n",
       "      <td>324</td>\n",
       "    </tr>\n",
       "    <tr>\n",
       "      <th>One year</th>\n",
       "      <td>NaN</td>\n",
       "      <td>273.0</td>\n",
       "      <td>NaN</td>\n",
       "      <td>273</td>\n",
       "    </tr>\n",
       "    <tr>\n",
       "      <th>Two year</th>\n",
       "      <td>NaN</td>\n",
       "      <td>305.0</td>\n",
       "      <td>NaN</td>\n",
       "      <td>305</td>\n",
       "    </tr>\n",
       "    <tr>\n",
       "      <th>All</th>\n",
       "      <th></th>\n",
       "      <td>2416.0</td>\n",
       "      <td>3096.0</td>\n",
       "      <td>1520.0</td>\n",
       "      <td>7032</td>\n",
       "    </tr>\n",
       "  </tbody>\n",
       "</table>\n",
       "</div>"
      ],
      "text/plain": [
       "internet_service                         DSL  Fiber optic  unknown   All\n",
       "monthly_charges_group type                                              \n",
       "a                     Month-to-month     NaN          NaN    253.0   253\n",
       "                      One year           NaN          NaN    164.0   164\n",
       "                      Two year           NaN          NaN    236.0   236\n",
       "b                     Month-to-month   238.0          NaN    271.0   509\n",
       "                      One year          46.0          NaN    199.0   245\n",
       "                      Two year          28.0          NaN    397.0   425\n",
       "c                     Month-to-month   731.0          NaN      NaN   731\n",
       "                      One year         213.0          NaN      NaN   213\n",
       "                      Two year         134.0          NaN      NaN   134\n",
       "d                     Month-to-month   239.0        678.0      NaN   917\n",
       "                      One year         266.0         19.0      NaN   285\n",
       "                      Two year         246.0          9.0      NaN   255\n",
       "e                     Month-to-month    15.0       1126.0      NaN  1141\n",
       "                      One year          45.0        247.0      NaN   292\n",
       "                      Two year         215.0        115.0      NaN   330\n",
       "f                     Month-to-month     NaN        324.0      NaN   324\n",
       "                      One year           NaN        273.0      NaN   273\n",
       "                      Two year           NaN        305.0      NaN   305\n",
       "All                                   2416.0       3096.0   1520.0  7032"
      ]
     },
     "execution_count": 2510,
     "metadata": {},
     "output_type": "execute_result"
    }
   ],
   "source": [
    "pivot_table_internet"
   ]
  },
  {
   "cell_type": "code",
   "execution_count": 2511,
   "metadata": {},
   "outputs": [],
   "source": [
    "def replace_internet_service(row):\n",
    "    \n",
    "    internet_1=row['internet_service']\n",
    "    monthly_1=row['monthly_charges_group']\n",
    "    type_1=row['type']\n",
    "    \n",
    "    if internet_1=='unknown' and monthly_1=='a':\n",
    "        replacement_value= 'DSL'\n",
    "        return replacement_value\n",
    "    \n",
    "    elif internet_1=='unknown' and monthly_1=='b':\n",
    "        replacement_value= 'Fiber optic'\n",
    "        return replacement_value\n",
    "\n",
    "    else:\n",
    "        return internet_1"
   ]
  },
  {
   "cell_type": "code",
   "execution_count": 2512,
   "metadata": {},
   "outputs": [],
   "source": [
    "merged_df['internet_service']=merged_df.apply(replace_internet_service,axis=1)"
   ]
  },
  {
   "cell_type": "code",
   "execution_count": 2513,
   "metadata": {},
   "outputs": [],
   "source": [
    "def replace_online_security(row):\n",
    "    \n",
    "    security_1=row['online_security']\n",
    "    monthly_1=row['monthly_charges_group']\n",
    "    type_1=row['type']\n",
    "    \n",
    "    if security_1=='unknown' and monthly_1=='a':\n",
    "        replacement_value= 'No'\n",
    "        return replacement_value\n",
    "    \n",
    "    elif security_1=='unknown' and monthly_1=='b':\n",
    "        replacement_value= 'No'\n",
    "        return replacement_value\n",
    "    \n",
    "    else:\n",
    "        return security_1"
   ]
  },
  {
   "cell_type": "code",
   "execution_count": 2514,
   "metadata": {},
   "outputs": [],
   "source": [
    "merged_df['online_security']=merged_df.apply(replace_online_security,axis=1)"
   ]
  },
  {
   "cell_type": "code",
   "execution_count": 2515,
   "metadata": {},
   "outputs": [],
   "source": [
    "def replace_online_backup(row):\n",
    "    \n",
    "    backup_1=row['online_backup']\n",
    "    monthly_1=row['monthly_charges_group']\n",
    "    type_1=row['type']\n",
    "    \n",
    "    if backup_1=='unknown' and monthly_1=='a':\n",
    "        replacement_value= 'No'\n",
    "        return replacement_value\n",
    "    \n",
    "    elif backup_1=='unknown' and monthly_1=='b':\n",
    "        replacement_value= 'No'\n",
    "        return replacement_value\n",
    "\n",
    "    else:\n",
    "        return backup_1"
   ]
  },
  {
   "cell_type": "code",
   "execution_count": 2516,
   "metadata": {},
   "outputs": [],
   "source": [
    "merged_df['online_backup']=merged_df.apply(replace_online_backup,axis=1)"
   ]
  },
  {
   "cell_type": "code",
   "execution_count": 2517,
   "metadata": {},
   "outputs": [],
   "source": [
    "def replace_device_protection(row):\n",
    "    \n",
    "    protection_1=row['device_protection']\n",
    "    monthly_1=row['monthly_charges_group']\n",
    "    type_1=row['type']\n",
    "    \n",
    "    if protection_1=='unknown' and monthly_1=='a':\n",
    "        replacement_value= 'No'\n",
    "        return replacement_value\n",
    "    \n",
    "    elif protection_1=='unknown' and monthly_1=='b':\n",
    "        replacement_value= 'No'\n",
    "        return replacement_value\n",
    "\n",
    "    else:\n",
    "        return protection_1"
   ]
  },
  {
   "cell_type": "code",
   "execution_count": 2518,
   "metadata": {},
   "outputs": [],
   "source": [
    "merged_df['device_protection']=merged_df.apply(replace_device_protection,axis=1)"
   ]
  },
  {
   "cell_type": "code",
   "execution_count": 2519,
   "metadata": {},
   "outputs": [],
   "source": [
    "def replace_tech_support(row):\n",
    "    \n",
    "    tech_1=row['tech_support']\n",
    "    monthly_1=row['monthly_charges_group']\n",
    "    type_1=row['type']\n",
    "    \n",
    "    if tech_1=='unknown' and monthly_1=='a':\n",
    "        replacement_value= 'No'\n",
    "        return replacement_value\n",
    "    \n",
    "    elif tech_1=='unknown' and monthly_1=='b':\n",
    "        replacement_value= 'No'\n",
    "        return replacement_value\n",
    "\n",
    "    else:\n",
    "        return tech_1"
   ]
  },
  {
   "cell_type": "code",
   "execution_count": 2520,
   "metadata": {},
   "outputs": [],
   "source": [
    "merged_df['tech_support']=merged_df.apply(replace_tech_support,axis=1)"
   ]
  },
  {
   "cell_type": "code",
   "execution_count": 2521,
   "metadata": {},
   "outputs": [],
   "source": [
    "def replace_streaming_TV(row):\n",
    "    \n",
    "    TV_1=row['streaming_TV']\n",
    "    monthly_1=row['monthly_charges_group']\n",
    "    type_1=row['type']\n",
    "    \n",
    "    if TV_1=='unknown' and monthly_1=='a':\n",
    "        replacement_value= 'No'\n",
    "        return replacement_value\n",
    "    \n",
    "    elif TV_1=='unknown' and monthly_1=='b':\n",
    "        replacement_value= 'Yes'\n",
    "        return replacement_value\n",
    "\n",
    "    else:\n",
    "        return TV_1"
   ]
  },
  {
   "cell_type": "code",
   "execution_count": 2522,
   "metadata": {},
   "outputs": [],
   "source": [
    "merged_df['streaming_TV']=merged_df.apply(replace_streaming_TV,axis=1)"
   ]
  },
  {
   "cell_type": "code",
   "execution_count": 2523,
   "metadata": {},
   "outputs": [],
   "source": [
    "def replace_streaming_movies(row):\n",
    "    \n",
    "    movies_1=row['streaming_movies']\n",
    "    monthly_1=row['monthly_charges_group']\n",
    "    type_1=row['type']\n",
    "    \n",
    "    if movies_1=='unknown' and monthly_1=='a':\n",
    "        replacement_value= 'No'\n",
    "        return replacement_value\n",
    "    \n",
    "    elif movies_1=='unknown' and monthly_1=='b':\n",
    "        replacement_value= 'Yes'\n",
    "        return replacement_value\n",
    "\n",
    "    else:\n",
    "        return movies_1"
   ]
  },
  {
   "cell_type": "code",
   "execution_count": 2524,
   "metadata": {},
   "outputs": [],
   "source": [
    "merged_df['streaming_movies']=merged_df.apply(replace_streaming_movies,axis=1)"
   ]
  },
  {
   "cell_type": "code",
   "execution_count": 2525,
   "metadata": {},
   "outputs": [],
   "source": [
    "def replace_multiple_lines(row):\n",
    "    \n",
    "    multiple_1=row['multiple_lines']\n",
    "    monthly_1=row['monthly_charges_group']\n",
    "    type_1=row['type']\n",
    "    \n",
    "    if multiple_1=='unknown' and monthly_1=='b':\n",
    "        replacement_value= 'No'\n",
    "        return replacement_value\n",
    "    \n",
    "    elif multiple_1=='unknown' and monthly_1=='c':\n",
    "        replacement_value= 'No'\n",
    "        return replacement_value\n",
    "    \n",
    "    elif multiple_1=='unknown' and monthly_1=='d':\n",
    "        replacement_value= 'Yes'\n",
    "        return replacement_value\n",
    "\n",
    "    else:\n",
    "        return multiple_1"
   ]
  },
  {
   "cell_type": "code",
   "execution_count": 2526,
   "metadata": {},
   "outputs": [],
   "source": [
    "merged_df['multiple_lines']=merged_df.apply(replace_multiple_lines,axis=1)"
   ]
  },
  {
   "cell_type": "code",
   "execution_count": 2527,
   "metadata": {},
   "outputs": [],
   "source": [
    "merged_df=merged_df.dropna().reset_index(drop=True)"
   ]
  },
  {
   "cell_type": "code",
   "execution_count": 2528,
   "metadata": {
    "scrolled": false
   },
   "outputs": [
    {
     "data": {
      "text/plain": [
       "customer_ID              0\n",
       "begin_date               0\n",
       "end_date                 0\n",
       "type                     0\n",
       "paperless_billing        0\n",
       "payment_method           0\n",
       "monthly_charges          0\n",
       "total_charges            0\n",
       "gender                   0\n",
       "senior_citizen           0\n",
       "partner                  0\n",
       "dependents               0\n",
       "internet_service         0\n",
       "online_security          0\n",
       "online_backup            0\n",
       "device_protection        0\n",
       "tech_support             0\n",
       "streaming_TV             0\n",
       "streaming_movies         0\n",
       "multiple_lines           0\n",
       "monthly_charges_group    0\n",
       "total_charges_group      0\n",
       "begin_year               0\n",
       "begin_month              0\n",
       "contract_end             0\n",
       "dtype: int64"
      ]
     },
     "execution_count": 2528,
     "metadata": {},
     "output_type": "execute_result"
    }
   ],
   "source": [
    "merged_df.isna().sum()"
   ]
  },
  {
   "cell_type": "code",
   "execution_count": 2529,
   "metadata": {},
   "outputs": [
    {
     "data": {
      "text/plain": [
       "customer_ID              0\n",
       "begin_date               0\n",
       "end_date                 0\n",
       "type                     0\n",
       "paperless_billing        0\n",
       "payment_method           0\n",
       "monthly_charges          0\n",
       "total_charges            0\n",
       "gender                   0\n",
       "senior_citizen           0\n",
       "partner                  0\n",
       "dependents               0\n",
       "internet_service         0\n",
       "online_security          0\n",
       "online_backup            0\n",
       "device_protection        0\n",
       "tech_support             0\n",
       "streaming_TV             0\n",
       "streaming_movies         0\n",
       "multiple_lines           0\n",
       "monthly_charges_group    0\n",
       "total_charges_group      0\n",
       "begin_year               0\n",
       "begin_month              0\n",
       "contract_end             0\n",
       "dtype: int64"
      ]
     },
     "execution_count": 2529,
     "metadata": {},
     "output_type": "execute_result"
    }
   ],
   "source": [
    "merged_df[merged_df=='unknown'].count()"
   ]
  },
  {
   "cell_type": "code",
   "execution_count": 2530,
   "metadata": {},
   "outputs": [
    {
     "name": "stdout",
     "output_type": "stream",
     "text": [
      "<class 'pandas.core.frame.DataFrame'>\n",
      "RangeIndex: 7032 entries, 0 to 7031\n",
      "Data columns (total 25 columns):\n",
      " #   Column                 Non-Null Count  Dtype         \n",
      "---  ------                 --------------  -----         \n",
      " 0   customer_ID            7032 non-null   object        \n",
      " 1   begin_date             7032 non-null   datetime64[ns]\n",
      " 2   end_date               7032 non-null   object        \n",
      " 3   type                   7032 non-null   object        \n",
      " 4   paperless_billing      7032 non-null   object        \n",
      " 5   payment_method         7032 non-null   object        \n",
      " 6   monthly_charges        7032 non-null   float64       \n",
      " 7   total_charges          7032 non-null   float64       \n",
      " 8   gender                 7032 non-null   object        \n",
      " 9   senior_citizen         7032 non-null   int64         \n",
      " 10  partner                7032 non-null   object        \n",
      " 11  dependents             7032 non-null   object        \n",
      " 12  internet_service       7032 non-null   object        \n",
      " 13  online_security        7032 non-null   object        \n",
      " 14  online_backup          7032 non-null   object        \n",
      " 15  device_protection      7032 non-null   object        \n",
      " 16  tech_support           7032 non-null   object        \n",
      " 17  streaming_TV           7032 non-null   object        \n",
      " 18  streaming_movies       7032 non-null   object        \n",
      " 19  multiple_lines         7032 non-null   object        \n",
      " 20  monthly_charges_group  7032 non-null   object        \n",
      " 21  total_charges_group    7032 non-null   object        \n",
      " 22  begin_year             7032 non-null   float64       \n",
      " 23  begin_month            7032 non-null   float64       \n",
      " 24  contract_end           7032 non-null   object        \n",
      "dtypes: datetime64[ns](1), float64(4), int64(1), object(19)\n",
      "memory usage: 1.3+ MB\n"
     ]
    }
   ],
   "source": [
    "merged_df.info()"
   ]
  },
  {
   "cell_type": "markdown",
   "metadata": {},
   "source": [
    "Con este trabajo hemos podido rescatar la mayor cantidad de datos ausentes en el DataFrame unido, con una pérdida minima respecto a los DF originales, esto es, nos hemos quedado con un DF de 7032 datapoints de 7043 datapoints que teníamos inicialmente. Esto evitando sesgar los datos de manera que afecte la distribución de los datos entre los usuarios como se puede apreciar en el siguiente gráfico."
   ]
  },
  {
   "cell_type": "code",
   "execution_count": 2531,
   "metadata": {
    "scrolled": true
   },
   "outputs": [
    {
     "data": {
      "image/png": "[encoded data removed]",
      "text/plain": [
       "<Figure size 432x288 with 1 Axes>"
      ]
     },
     "metadata": {
      "needs_background": "light"
     },
     "output_type": "display_data"
    }
   ],
   "source": [
    "sns.kdeplot(data=merged_df, x=\"monthly_charges\", hue=\"gender\",multiple=\"stack\",alpha=0.1)\n",
    "sns.kdeplot(data=merged_df, x=\"monthly_charges\", hue=\"senior_citizen\",multiple=\"stack\",alpha=0.1)\n",
    "sns.kdeplot(data=merged_df, x=\"monthly_charges\", hue=\"partner\",multiple=\"stack\",alpha=0.1)\n",
    "sns.kdeplot(data=merged_df, x=\"monthly_charges\", hue=\"dependents\",multiple=\"stack\",alpha=0.1)\n",
    "plt.show()"
   ]
  },
  {
   "cell_type": "markdown",
   "metadata": {},
   "source": [
    "### Procesamiento terciario de datos"
   ]
  },
  {
   "cell_type": "markdown",
   "metadata": {},
   "source": [
    "#### Conversión a datos ordinales"
   ]
  },
  {
   "cell_type": "code",
   "execution_count": 2532,
   "metadata": {},
   "outputs": [],
   "source": [
    "data_non_numeric = merged_df.loc[:,['type','paperless_billing','payment_method','gender','partner','dependents','internet_service','online_security','online_backup','device_protection','tech_support','streaming_TV','streaming_movies','multiple_lines','monthly_charges_group','total_charges_group','begin_year','begin_month','contract_end']]"
   ]
  },
  {
   "cell_type": "code",
   "execution_count": 2533,
   "metadata": {},
   "outputs": [],
   "source": [
    "encoder = OrdinalEncoder()\n",
    "data_ordinal = pd.DataFrame(encoder.fit_transform(data_non_numeric), columns=data_non_numeric.columns)"
   ]
  },
  {
   "cell_type": "code",
   "execution_count": 2534,
   "metadata": {},
   "outputs": [],
   "source": [
    "merged_df['type_ord'] = data_ordinal['type']\n",
    "merged_df['paperless_billing_ord'] = data_ordinal['paperless_billing']\n",
    "merged_df['payment_method_ord'] = data_ordinal['payment_method']\n",
    "merged_df['gender_ord'] = data_ordinal['gender']\n",
    "merged_df['partner_ord'] = data_ordinal['partner']\n",
    "merged_df['dependents_ord'] = data_ordinal['dependents']\n",
    "merged_df['internet_service_ord'] = data_ordinal['internet_service']\n",
    "merged_df['online_security_ord'] = data_ordinal['online_security']\n",
    "merged_df['online_backup_ord'] = data_ordinal['online_backup']\n",
    "merged_df['device_protection_ord'] = data_ordinal['device_protection']\n",
    "merged_df['tech_support_ord'] = data_ordinal['tech_support']\n",
    "merged_df['streaming_TV_ord'] = data_ordinal['streaming_TV']\n",
    "merged_df['streaming_movies_ord'] = data_ordinal['streaming_movies']\n",
    "merged_df['multiple_lines_ord'] = data_ordinal['multiple_lines']\n",
    "merged_df['monthly_charges_group_ord'] = data_ordinal['monthly_charges_group']\n",
    "merged_df['total_charges_group_ord'] = data_ordinal['total_charges_group']\n",
    "merged_df['begin_year_ord'] = data_ordinal['begin_year']\n",
    "merged_df['begin_month_ord'] = data_ordinal['begin_month']\n",
    "merged_df['contract_end_ord'] = data_ordinal['contract_end']"
   ]
  },
  {
   "cell_type": "code",
   "execution_count": 2535,
   "metadata": {},
   "outputs": [
    {
     "data": {
      "text/plain": [
       "Index(['customer_ID', 'begin_date', 'end_date', 'type', 'paperless_billing',\n",
       "       'payment_method', 'monthly_charges', 'total_charges', 'gender',\n",
       "       'senior_citizen', 'partner', 'dependents', 'internet_service',\n",
       "       'online_security', 'online_backup', 'device_protection', 'tech_support',\n",
       "       'streaming_TV', 'streaming_movies', 'multiple_lines',\n",
       "       'monthly_charges_group', 'total_charges_group', 'begin_year',\n",
       "       'begin_month', 'contract_end', 'type_ord', 'paperless_billing_ord',\n",
       "       'payment_method_ord', 'gender_ord', 'partner_ord', 'dependents_ord',\n",
       "       'internet_service_ord', 'online_security_ord', 'online_backup_ord',\n",
       "       'device_protection_ord', 'tech_support_ord', 'streaming_TV_ord',\n",
       "       'streaming_movies_ord', 'multiple_lines_ord',\n",
       "       'monthly_charges_group_ord', 'total_charges_group_ord',\n",
       "       'begin_year_ord', 'begin_month_ord', 'contract_end_ord'],\n",
       "      dtype='object')"
      ]
     },
     "execution_count": 2535,
     "metadata": {},
     "output_type": "execute_result"
    }
   ],
   "source": [
    "merged_df.columns"
   ]
  },
  {
   "cell_type": "code",
   "execution_count": 2536,
   "metadata": {},
   "outputs": [],
   "source": [
    "data_for_model = merged_df.drop(['customer_ID','begin_date','end_date','type','paperless_billing','payment_method','monthly_charges','total_charges','gender','partner','dependents','internet_service','online_security','online_backup','device_protection','tech_support','streaming_TV','streaming_movies','multiple_lines','monthly_charges_group','total_charges_group','begin_year','begin_month','contract_end'], axis=1)"
   ]
  },
  {
   "cell_type": "code",
   "execution_count": 2537,
   "metadata": {},
   "outputs": [
    {
     "name": "stdout",
     "output_type": "stream",
     "text": [
      "<class 'pandas.core.frame.DataFrame'>\n",
      "RangeIndex: 7032 entries, 0 to 7031\n",
      "Data columns (total 20 columns):\n",
      " #   Column                     Non-Null Count  Dtype  \n",
      "---  ------                     --------------  -----  \n",
      " 0   senior_citizen             7032 non-null   int64  \n",
      " 1   type_ord                   7032 non-null   float64\n",
      " 2   paperless_billing_ord      7032 non-null   float64\n",
      " 3   payment_method_ord         7032 non-null   float64\n",
      " 4   gender_ord                 7032 non-null   float64\n",
      " 5   partner_ord                7032 non-null   float64\n",
      " 6   dependents_ord             7032 non-null   float64\n",
      " 7   internet_service_ord       7032 non-null   float64\n",
      " 8   online_security_ord        7032 non-null   float64\n",
      " 9   online_backup_ord          7032 non-null   float64\n",
      " 10  device_protection_ord      7032 non-null   float64\n",
      " 11  tech_support_ord           7032 non-null   float64\n",
      " 12  streaming_TV_ord           7032 non-null   float64\n",
      " 13  streaming_movies_ord       7032 non-null   float64\n",
      " 14  multiple_lines_ord         7032 non-null   float64\n",
      " 15  monthly_charges_group_ord  7032 non-null   float64\n",
      " 16  total_charges_group_ord    7032 non-null   float64\n",
      " 17  begin_year_ord             7032 non-null   float64\n",
      " 18  begin_month_ord            7032 non-null   float64\n",
      " 19  contract_end_ord           7032 non-null   float64\n",
      "dtypes: float64(19), int64(1)\n",
      "memory usage: 1.1 MB\n"
     ]
    }
   ],
   "source": [
    "data_for_model.info()"
   ]
  },
  {
   "cell_type": "code",
   "execution_count": 2538,
   "metadata": {},
   "outputs": [
    {
     "data": {
      "text/html": [
       "<div>\n",
       "<style scoped>\n",
       "    .dataframe tbody tr th:only-of-type {\n",
       "        vertical-align: middle;\n",
       "    }\n",
       "\n",
       "    .dataframe tbody tr th {\n",
       "        vertical-align: top;\n",
       "    }\n",
       "\n",
       "    .dataframe thead th {\n",
       "        text-align: right;\n",
       "    }\n",
       "</style>\n",
       "<table border=\"1\" class=\"dataframe\">\n",
       "  <thead>\n",
       "    <tr style=\"text-align: right;\">\n",
       "      <th></th>\n",
       "      <th>senior_citizen</th>\n",
       "      <th>type_ord</th>\n",
       "      <th>paperless_billing_ord</th>\n",
       "      <th>payment_method_ord</th>\n",
       "      <th>gender_ord</th>\n",
       "      <th>partner_ord</th>\n",
       "      <th>dependents_ord</th>\n",
       "      <th>internet_service_ord</th>\n",
       "      <th>online_security_ord</th>\n",
       "      <th>online_backup_ord</th>\n",
       "      <th>device_protection_ord</th>\n",
       "      <th>tech_support_ord</th>\n",
       "      <th>streaming_TV_ord</th>\n",
       "      <th>streaming_movies_ord</th>\n",
       "      <th>multiple_lines_ord</th>\n",
       "      <th>monthly_charges_group_ord</th>\n",
       "      <th>total_charges_group_ord</th>\n",
       "      <th>begin_year_ord</th>\n",
       "      <th>begin_month_ord</th>\n",
       "      <th>contract_end_ord</th>\n",
       "    </tr>\n",
       "  </thead>\n",
       "  <tbody>\n",
       "    <tr>\n",
       "      <th>0</th>\n",
       "      <td>0</td>\n",
       "      <td>0.0</td>\n",
       "      <td>1.0</td>\n",
       "      <td>2.0</td>\n",
       "      <td>0.0</td>\n",
       "      <td>1.0</td>\n",
       "      <td>0.0</td>\n",
       "      <td>0.0</td>\n",
       "      <td>0.0</td>\n",
       "      <td>1.0</td>\n",
       "      <td>0.0</td>\n",
       "      <td>0.0</td>\n",
       "      <td>0.0</td>\n",
       "      <td>0.0</td>\n",
       "      <td>0.0</td>\n",
       "      <td>1.0</td>\n",
       "      <td>0.0</td>\n",
       "      <td>7.0</td>\n",
       "      <td>0.0</td>\n",
       "      <td>0.0</td>\n",
       "    </tr>\n",
       "    <tr>\n",
       "      <th>1</th>\n",
       "      <td>0</td>\n",
       "      <td>1.0</td>\n",
       "      <td>0.0</td>\n",
       "      <td>3.0</td>\n",
       "      <td>1.0</td>\n",
       "      <td>0.0</td>\n",
       "      <td>0.0</td>\n",
       "      <td>0.0</td>\n",
       "      <td>1.0</td>\n",
       "      <td>0.0</td>\n",
       "      <td>1.0</td>\n",
       "      <td>0.0</td>\n",
       "      <td>0.0</td>\n",
       "      <td>0.0</td>\n",
       "      <td>0.0</td>\n",
       "      <td>2.0</td>\n",
       "      <td>0.0</td>\n",
       "      <td>4.0</td>\n",
       "      <td>3.0</td>\n",
       "      <td>0.0</td>\n",
       "    </tr>\n",
       "    <tr>\n",
       "      <th>2</th>\n",
       "      <td>0</td>\n",
       "      <td>0.0</td>\n",
       "      <td>1.0</td>\n",
       "      <td>3.0</td>\n",
       "      <td>1.0</td>\n",
       "      <td>0.0</td>\n",
       "      <td>0.0</td>\n",
       "      <td>0.0</td>\n",
       "      <td>1.0</td>\n",
       "      <td>1.0</td>\n",
       "      <td>0.0</td>\n",
       "      <td>0.0</td>\n",
       "      <td>0.0</td>\n",
       "      <td>0.0</td>\n",
       "      <td>0.0</td>\n",
       "      <td>2.0</td>\n",
       "      <td>0.0</td>\n",
       "      <td>6.0</td>\n",
       "      <td>9.0</td>\n",
       "      <td>1.0</td>\n",
       "    </tr>\n",
       "    <tr>\n",
       "      <th>3</th>\n",
       "      <td>0</td>\n",
       "      <td>1.0</td>\n",
       "      <td>0.0</td>\n",
       "      <td>0.0</td>\n",
       "      <td>1.0</td>\n",
       "      <td>0.0</td>\n",
       "      <td>0.0</td>\n",
       "      <td>0.0</td>\n",
       "      <td>1.0</td>\n",
       "      <td>0.0</td>\n",
       "      <td>1.0</td>\n",
       "      <td>1.0</td>\n",
       "      <td>0.0</td>\n",
       "      <td>0.0</td>\n",
       "      <td>0.0</td>\n",
       "      <td>2.0</td>\n",
       "      <td>0.0</td>\n",
       "      <td>3.0</td>\n",
       "      <td>4.0</td>\n",
       "      <td>0.0</td>\n",
       "    </tr>\n",
       "    <tr>\n",
       "      <th>4</th>\n",
       "      <td>0</td>\n",
       "      <td>0.0</td>\n",
       "      <td>1.0</td>\n",
       "      <td>2.0</td>\n",
       "      <td>0.0</td>\n",
       "      <td>0.0</td>\n",
       "      <td>0.0</td>\n",
       "      <td>1.0</td>\n",
       "      <td>0.0</td>\n",
       "      <td>0.0</td>\n",
       "      <td>0.0</td>\n",
       "      <td>0.0</td>\n",
       "      <td>0.0</td>\n",
       "      <td>0.0</td>\n",
       "      <td>0.0</td>\n",
       "      <td>3.0</td>\n",
       "      <td>0.0</td>\n",
       "      <td>6.0</td>\n",
       "      <td>8.0</td>\n",
       "      <td>1.0</td>\n",
       "    </tr>\n",
       "  </tbody>\n",
       "</table>\n",
       "</div>"
      ],
      "text/plain": [
       "   senior_citizen  type_ord  paperless_billing_ord  payment_method_ord  \\\n",
       "0               0       0.0                    1.0                 2.0   \n",
       "1               0       1.0                    0.0                 3.0   \n",
       "2               0       0.0                    1.0                 3.0   \n",
       "3               0       1.0                    0.0                 0.0   \n",
       "4               0       0.0                    1.0                 2.0   \n",
       "\n",
       "   gender_ord  partner_ord  dependents_ord  internet_service_ord  \\\n",
       "0         0.0          1.0             0.0                   0.0   \n",
       "1         1.0          0.0             0.0                   0.0   \n",
       "2         1.0          0.0             0.0                   0.0   \n",
       "3         1.0          0.0             0.0                   0.0   \n",
       "4         0.0          0.0             0.0                   1.0   \n",
       "\n",
       "   online_security_ord  online_backup_ord  device_protection_ord  \\\n",
       "0                  0.0                1.0                    0.0   \n",
       "1                  1.0                0.0                    1.0   \n",
       "2                  1.0                1.0                    0.0   \n",
       "3                  1.0                0.0                    1.0   \n",
       "4                  0.0                0.0                    0.0   \n",
       "\n",
       "   tech_support_ord  streaming_TV_ord  streaming_movies_ord  \\\n",
       "0               0.0               0.0                   0.0   \n",
       "1               0.0               0.0                   0.0   \n",
       "2               0.0               0.0                   0.0   \n",
       "3               1.0               0.0                   0.0   \n",
       "4               0.0               0.0                   0.0   \n",
       "\n",
       "   multiple_lines_ord  monthly_charges_group_ord  total_charges_group_ord  \\\n",
       "0                 0.0                        1.0                      0.0   \n",
       "1                 0.0                        2.0                      0.0   \n",
       "2                 0.0                        2.0                      0.0   \n",
       "3                 0.0                        2.0                      0.0   \n",
       "4                 0.0                        3.0                      0.0   \n",
       "\n",
       "   begin_year_ord  begin_month_ord  contract_end_ord  \n",
       "0             7.0              0.0               0.0  \n",
       "1             4.0              3.0               0.0  \n",
       "2             6.0              9.0               1.0  \n",
       "3             3.0              4.0               0.0  \n",
       "4             6.0              8.0               1.0  "
      ]
     },
     "execution_count": 2538,
     "metadata": {},
     "output_type": "execute_result"
    }
   ],
   "source": [
    "data_for_model.head()"
   ]
  },
  {
   "cell_type": "markdown",
   "metadata": {},
   "source": [
    "#### Tratamiento de datos categóricos con OHE"
   ]
  },
  {
   "cell_type": "code",
   "execution_count": 2539,
   "metadata": {},
   "outputs": [],
   "source": [
    "merged_OHE = merged_df.loc[:,'type':'contract_end_ord']\n",
    "data_for_OHE = merged_OHE.drop(['monthly_charges','total_charges','contract_end', 'type_ord', 'paperless_billing_ord',\n",
    "       'payment_method_ord', 'gender_ord', 'partner_ord', 'dependents_ord',\n",
    "       'internet_service_ord', 'online_security_ord', 'online_backup_ord',\n",
    "       'device_protection_ord', 'tech_support_ord', 'streaming_TV_ord',\n",
    "       'streaming_movies_ord', 'multiple_lines_ord',\n",
    "       'monthly_charges_group_ord', 'total_charges_group_ord',\n",
    "       'begin_year_ord', 'begin_month_ord'],axis=1)"
   ]
  },
  {
   "cell_type": "code",
   "execution_count": 2540,
   "metadata": {},
   "outputs": [
    {
     "data": {
      "text/plain": [
       "Index(['type', 'paperless_billing', 'payment_method', 'gender',\n",
       "       'senior_citizen', 'partner', 'dependents', 'internet_service',\n",
       "       'online_security', 'online_backup', 'device_protection', 'tech_support',\n",
       "       'streaming_TV', 'streaming_movies', 'multiple_lines',\n",
       "       'monthly_charges_group', 'total_charges_group', 'begin_year',\n",
       "       'begin_month', 'contract_end_ord'],\n",
       "      dtype='object')"
      ]
     },
     "execution_count": 2540,
     "metadata": {},
     "output_type": "execute_result"
    }
   ],
   "source": [
    "data_for_OHE.columns"
   ]
  },
  {
   "cell_type": "code",
   "execution_count": 2541,
   "metadata": {},
   "outputs": [],
   "source": [
    "data_for_reg = pd.get_dummies(data_for_OHE, drop_first=True)"
   ]
  },
  {
   "cell_type": "code",
   "execution_count": 2542,
   "metadata": {},
   "outputs": [
    {
     "name": "stdout",
     "output_type": "stream",
     "text": [
      "<class 'pandas.core.frame.DataFrame'>\n",
      "RangeIndex: 7032 entries, 0 to 7031\n",
      "Data columns (total 30 columns):\n",
      " #   Column                                  Non-Null Count  Dtype  \n",
      "---  ------                                  --------------  -----  \n",
      " 0   senior_citizen                          7032 non-null   int64  \n",
      " 1   begin_year                              7032 non-null   float64\n",
      " 2   begin_month                             7032 non-null   float64\n",
      " 3   contract_end_ord                        7032 non-null   float64\n",
      " 4   type_One year                           7032 non-null   uint8  \n",
      " 5   type_Two year                           7032 non-null   uint8  \n",
      " 6   paperless_billing_Yes                   7032 non-null   uint8  \n",
      " 7   payment_method_Credit card (automatic)  7032 non-null   uint8  \n",
      " 8   payment_method_Electronic check         7032 non-null   uint8  \n",
      " 9   payment_method_Mailed check             7032 non-null   uint8  \n",
      " 10  gender_Male                             7032 non-null   uint8  \n",
      " 11  partner_Yes                             7032 non-null   uint8  \n",
      " 12  dependents_Yes                          7032 non-null   uint8  \n",
      " 13  internet_service_Fiber optic            7032 non-null   uint8  \n",
      " 14  online_security_Yes                     7032 non-null   uint8  \n",
      " 15  online_backup_Yes                       7032 non-null   uint8  \n",
      " 16  device_protection_Yes                   7032 non-null   uint8  \n",
      " 17  tech_support_Yes                        7032 non-null   uint8  \n",
      " 18  streaming_TV_Yes                        7032 non-null   uint8  \n",
      " 19  streaming_movies_Yes                    7032 non-null   uint8  \n",
      " 20  multiple_lines_Yes                      7032 non-null   uint8  \n",
      " 21  monthly_charges_group_b                 7032 non-null   uint8  \n",
      " 22  monthly_charges_group_c                 7032 non-null   uint8  \n",
      " 23  monthly_charges_group_d                 7032 non-null   uint8  \n",
      " 24  monthly_charges_group_e                 7032 non-null   uint8  \n",
      " 25  monthly_charges_group_f                 7032 non-null   uint8  \n",
      " 26  total_charges_group_b                   7032 non-null   uint8  \n",
      " 27  total_charges_group_c                   7032 non-null   uint8  \n",
      " 28  total_charges_group_d                   7032 non-null   uint8  \n",
      " 29  total_charges_group_e                   7032 non-null   uint8  \n",
      "dtypes: float64(3), int64(1), uint8(26)\n",
      "memory usage: 398.4 KB\n"
     ]
    }
   ],
   "source": [
    "data_for_reg.info()"
   ]
  },
  {
   "cell_type": "code",
   "execution_count": 2543,
   "metadata": {},
   "outputs": [
    {
     "data": {
      "text/html": [
       "<div>\n",
       "<style scoped>\n",
       "    .dataframe tbody tr th:only-of-type {\n",
       "        vertical-align: middle;\n",
       "    }\n",
       "\n",
       "    .dataframe tbody tr th {\n",
       "        vertical-align: top;\n",
       "    }\n",
       "\n",
       "    .dataframe thead th {\n",
       "        text-align: right;\n",
       "    }\n",
       "</style>\n",
       "<table border=\"1\" class=\"dataframe\">\n",
       "  <thead>\n",
       "    <tr style=\"text-align: right;\">\n",
       "      <th></th>\n",
       "      <th>senior_citizen</th>\n",
       "      <th>begin_year</th>\n",
       "      <th>begin_month</th>\n",
       "      <th>contract_end_ord</th>\n",
       "      <th>type_One year</th>\n",
       "      <th>type_Two year</th>\n",
       "      <th>paperless_billing_Yes</th>\n",
       "      <th>payment_method_Credit card (automatic)</th>\n",
       "      <th>payment_method_Electronic check</th>\n",
       "      <th>payment_method_Mailed check</th>\n",
       "      <th>...</th>\n",
       "      <th>multiple_lines_Yes</th>\n",
       "      <th>monthly_charges_group_b</th>\n",
       "      <th>monthly_charges_group_c</th>\n",
       "      <th>monthly_charges_group_d</th>\n",
       "      <th>monthly_charges_group_e</th>\n",
       "      <th>monthly_charges_group_f</th>\n",
       "      <th>total_charges_group_b</th>\n",
       "      <th>total_charges_group_c</th>\n",
       "      <th>total_charges_group_d</th>\n",
       "      <th>total_charges_group_e</th>\n",
       "    </tr>\n",
       "  </thead>\n",
       "  <tbody>\n",
       "    <tr>\n",
       "      <th>0</th>\n",
       "      <td>0</td>\n",
       "      <td>2020.0</td>\n",
       "      <td>1.0</td>\n",
       "      <td>0.0</td>\n",
       "      <td>0</td>\n",
       "      <td>0</td>\n",
       "      <td>1</td>\n",
       "      <td>0</td>\n",
       "      <td>1</td>\n",
       "      <td>0</td>\n",
       "      <td>...</td>\n",
       "      <td>0</td>\n",
       "      <td>1</td>\n",
       "      <td>0</td>\n",
       "      <td>0</td>\n",
       "      <td>0</td>\n",
       "      <td>0</td>\n",
       "      <td>0</td>\n",
       "      <td>0</td>\n",
       "      <td>0</td>\n",
       "      <td>0</td>\n",
       "    </tr>\n",
       "    <tr>\n",
       "      <th>1</th>\n",
       "      <td>0</td>\n",
       "      <td>2017.0</td>\n",
       "      <td>4.0</td>\n",
       "      <td>0.0</td>\n",
       "      <td>1</td>\n",
       "      <td>0</td>\n",
       "      <td>0</td>\n",
       "      <td>0</td>\n",
       "      <td>0</td>\n",
       "      <td>1</td>\n",
       "      <td>...</td>\n",
       "      <td>0</td>\n",
       "      <td>0</td>\n",
       "      <td>1</td>\n",
       "      <td>0</td>\n",
       "      <td>0</td>\n",
       "      <td>0</td>\n",
       "      <td>0</td>\n",
       "      <td>0</td>\n",
       "      <td>0</td>\n",
       "      <td>0</td>\n",
       "    </tr>\n",
       "    <tr>\n",
       "      <th>2</th>\n",
       "      <td>0</td>\n",
       "      <td>2019.0</td>\n",
       "      <td>10.0</td>\n",
       "      <td>1.0</td>\n",
       "      <td>0</td>\n",
       "      <td>0</td>\n",
       "      <td>1</td>\n",
       "      <td>0</td>\n",
       "      <td>0</td>\n",
       "      <td>1</td>\n",
       "      <td>...</td>\n",
       "      <td>0</td>\n",
       "      <td>0</td>\n",
       "      <td>1</td>\n",
       "      <td>0</td>\n",
       "      <td>0</td>\n",
       "      <td>0</td>\n",
       "      <td>0</td>\n",
       "      <td>0</td>\n",
       "      <td>0</td>\n",
       "      <td>0</td>\n",
       "    </tr>\n",
       "    <tr>\n",
       "      <th>3</th>\n",
       "      <td>0</td>\n",
       "      <td>2016.0</td>\n",
       "      <td>5.0</td>\n",
       "      <td>0.0</td>\n",
       "      <td>1</td>\n",
       "      <td>0</td>\n",
       "      <td>0</td>\n",
       "      <td>0</td>\n",
       "      <td>0</td>\n",
       "      <td>0</td>\n",
       "      <td>...</td>\n",
       "      <td>0</td>\n",
       "      <td>0</td>\n",
       "      <td>1</td>\n",
       "      <td>0</td>\n",
       "      <td>0</td>\n",
       "      <td>0</td>\n",
       "      <td>0</td>\n",
       "      <td>0</td>\n",
       "      <td>0</td>\n",
       "      <td>0</td>\n",
       "    </tr>\n",
       "    <tr>\n",
       "      <th>4</th>\n",
       "      <td>0</td>\n",
       "      <td>2019.0</td>\n",
       "      <td>9.0</td>\n",
       "      <td>1.0</td>\n",
       "      <td>0</td>\n",
       "      <td>0</td>\n",
       "      <td>1</td>\n",
       "      <td>0</td>\n",
       "      <td>1</td>\n",
       "      <td>0</td>\n",
       "      <td>...</td>\n",
       "      <td>0</td>\n",
       "      <td>0</td>\n",
       "      <td>0</td>\n",
       "      <td>1</td>\n",
       "      <td>0</td>\n",
       "      <td>0</td>\n",
       "      <td>0</td>\n",
       "      <td>0</td>\n",
       "      <td>0</td>\n",
       "      <td>0</td>\n",
       "    </tr>\n",
       "  </tbody>\n",
       "</table>\n",
       "<p>5 rows × 30 columns</p>\n",
       "</div>"
      ],
      "text/plain": [
       "   senior_citizen  begin_year  begin_month  contract_end_ord  type_One year  \\\n",
       "0               0      2020.0          1.0               0.0              0   \n",
       "1               0      2017.0          4.0               0.0              1   \n",
       "2               0      2019.0         10.0               1.0              0   \n",
       "3               0      2016.0          5.0               0.0              1   \n",
       "4               0      2019.0          9.0               1.0              0   \n",
       "\n",
       "   type_Two year  paperless_billing_Yes  \\\n",
       "0              0                      1   \n",
       "1              0                      0   \n",
       "2              0                      1   \n",
       "3              0                      0   \n",
       "4              0                      1   \n",
       "\n",
       "   payment_method_Credit card (automatic)  payment_method_Electronic check  \\\n",
       "0                                       0                                1   \n",
       "1                                       0                                0   \n",
       "2                                       0                                0   \n",
       "3                                       0                                0   \n",
       "4                                       0                                1   \n",
       "\n",
       "   payment_method_Mailed check  ...  multiple_lines_Yes  \\\n",
       "0                            0  ...                   0   \n",
       "1                            1  ...                   0   \n",
       "2                            1  ...                   0   \n",
       "3                            0  ...                   0   \n",
       "4                            0  ...                   0   \n",
       "\n",
       "   monthly_charges_group_b  monthly_charges_group_c  monthly_charges_group_d  \\\n",
       "0                        1                        0                        0   \n",
       "1                        0                        1                        0   \n",
       "2                        0                        1                        0   \n",
       "3                        0                        1                        0   \n",
       "4                        0                        0                        1   \n",
       "\n",
       "   monthly_charges_group_e  monthly_charges_group_f  total_charges_group_b  \\\n",
       "0                        0                        0                      0   \n",
       "1                        0                        0                      0   \n",
       "2                        0                        0                      0   \n",
       "3                        0                        0                      0   \n",
       "4                        0                        0                      0   \n",
       "\n",
       "   total_charges_group_c  total_charges_group_d  total_charges_group_e  \n",
       "0                      0                      0                      0  \n",
       "1                      0                      0                      0  \n",
       "2                      0                      0                      0  \n",
       "3                      0                      0                      0  \n",
       "4                      0                      0                      0  \n",
       "\n",
       "[5 rows x 30 columns]"
      ]
     },
     "execution_count": 2543,
     "metadata": {},
     "output_type": "execute_result"
    }
   ],
   "source": [
    "data_for_reg.head()"
   ]
  },
  {
   "cell_type": "markdown",
   "metadata": {},
   "source": [
    "### División de los sets de entrenamiento, validación y prueba"
   ]
  },
  {
   "cell_type": "markdown",
   "metadata": {},
   "source": [
    "#### Sets para árbol de decisión y bosque aleatorio"
   ]
  },
  {
   "cell_type": "code",
   "execution_count": 2544,
   "metadata": {},
   "outputs": [],
   "source": [
    "target = data_for_model['contract_end_ord']\n",
    "features = data_for_model.drop('contract_end_ord', axis=1)"
   ]
  },
  {
   "cell_type": "code",
   "execution_count": 2545,
   "metadata": {},
   "outputs": [],
   "source": [
    "X_train, X_valid_test, Y_train, Y_valid_test = train_test_split(features, target, test_size=0.4, random_state=12345)\n",
    "X_valid, X_test, Y_valid, Y_test = train_test_split(X_valid_test, Y_valid_test, test_size=0.5, random_state=12345)"
   ]
  },
  {
   "cell_type": "markdown",
   "metadata": {},
   "source": [
    "#### Sets para regresión logística"
   ]
  },
  {
   "cell_type": "code",
   "execution_count": 2546,
   "metadata": {},
   "outputs": [],
   "source": [
    "target_1 = data_for_reg['contract_end_ord']\n",
    "features_1 = data_for_reg.drop('contract_end_ord', axis=1)"
   ]
  },
  {
   "cell_type": "code",
   "execution_count": 2547,
   "metadata": {},
   "outputs": [],
   "source": [
    "X_train_1, X_valid_test_1, Y_train_1, Y_valid_test_1 = train_test_split(features_1, target_1, test_size=0.4, random_state=12345)\n",
    "X_valid_1, X_test_1, Y_valid_1, Y_test_1 = train_test_split(X_valid_test_1, Y_valid_test_1, test_size=0.5, random_state=12345)"
   ]
  },
  {
   "cell_type": "markdown",
   "metadata": {},
   "source": [
    "### Entrenamiento y evaluación de desempeño"
   ]
  },
  {
   "cell_type": "markdown",
   "metadata": {},
   "source": [
    "#### AUC_ROC - árbol de decisión"
   ]
  },
  {
   "cell_type": "code",
   "execution_count": 2548,
   "metadata": {},
   "outputs": [
    {
     "name": "stdout",
     "output_type": "stream",
     "text": [
      "Best AUC-ROC (max_depth = 9): 0.7\n"
     ]
    }
   ],
   "source": [
    "best_AUC_ROC = 0\n",
    "best_depth = 0\n",
    "for depth in range(1, 20):\n",
    "    model = DecisionTreeClassifier(random_state=12345, max_depth=depth)\n",
    "    model.fit(X_train, Y_train)\n",
    "    Y_pred = model.predict(X_valid)\n",
    "    AUC_ROC = round(roc_auc_score(Y_valid, Y_pred),2)\n",
    "    if AUC_ROC > best_AUC_ROC:\n",
    "        best_AUC_ROC = AUC_ROC\n",
    "        best_depth = depth\n",
    "print(\"Best AUC-ROC (max_depth = {}): {}\".format(best_depth, best_AUC_ROC))"
   ]
  },
  {
   "cell_type": "markdown",
   "metadata": {},
   "source": [
    "#### AUC_ROC - bosque aleatorio"
   ]
  },
  {
   "cell_type": "code",
   "execution_count": 2549,
   "metadata": {},
   "outputs": [
    {
     "name": "stdout",
     "output_type": "stream",
     "text": [
      "Best AUC-ROC (n_estimators = 20, max_depth = 10): 0.74\n"
     ]
    }
   ],
   "source": [
    "best_AUC_ROC = 0\n",
    "best_est = 0\n",
    "best_depth = 0\n",
    "for depth in range(1, 20):\n",
    "    for est in range(10, 50,10):\n",
    "        model = RandomForestClassifier(random_state=54321, n_estimators=est, max_depth=depth)\n",
    "        model.fit(X_train, Y_train)\n",
    "        Y_pred = model.predict(X_valid)\n",
    "        AUC_ROC = round(roc_auc_score(Y_valid, Y_pred),2)\n",
    "        if AUC_ROC > best_AUC_ROC:\n",
    "            best_AUC_ROC = AUC_ROC\n",
    "            best_est = est\n",
    "            best_depth = depth\n",
    "print(\"Best AUC-ROC (n_estimators = {}, max_depth = {}): {}\".format(best_est, best_depth, best_AUC_ROC))"
   ]
  },
  {
   "cell_type": "markdown",
   "metadata": {},
   "source": [
    "#### AUC_ROC - regresión logística"
   ]
  },
  {
   "cell_type": "code",
   "execution_count": 2550,
   "metadata": {},
   "outputs": [
    {
     "name": "stdout",
     "output_type": "stream",
     "text": [
      "AUC-ROC:  0.71\n"
     ]
    }
   ],
   "source": [
    "model = LogisticRegression(random_state=12345, solver='liblinear')\n",
    "model.fit(X_train_1, Y_train_1)\n",
    "Y_pred_1 = model.predict(X_valid_1)\n",
    "print(\"AUC-ROC: \",round(roc_auc_score(Y_valid_1, Y_pred_1),2))"
   ]
  },
  {
   "cell_type": "markdown",
   "metadata": {},
   "source": [
    "### Verificación del mejor modelo con el set de prueba"
   ]
  },
  {
   "cell_type": "code",
   "execution_count": 2551,
   "metadata": {},
   "outputs": [
    {
     "data": {
      "text/plain": [
       "RandomForestClassifier(max_depth=10, n_estimators=20, random_state=54321)"
      ]
     },
     "execution_count": 2551,
     "metadata": {},
     "output_type": "execute_result"
    }
   ],
   "source": [
    "model_test = RandomForestClassifier(random_state=54321, n_estimators=20, max_depth=10)\n",
    "model_test.fit(X_train, Y_train)"
   ]
  },
  {
   "cell_type": "code",
   "execution_count": 2552,
   "metadata": {},
   "outputs": [
    {
     "name": "stdout",
     "output_type": "stream",
     "text": [
      "Métrica AUC-ROC con el conjunto de prueba: 0.83\n"
     ]
    }
   ],
   "source": [
    "probabilities_test = model_test.predict_proba(X_test)\n",
    "probabilities_one_test = probabilities_test[:, 1]\n",
    "auc_roc = roc_auc_score(Y_test, probabilities_one_test)\n",
    "print('Métrica AUC-ROC con el conjunto de prueba:', round(auc_roc,2))"
   ]
  },
  {
   "cell_type": "code",
   "execution_count": 2553,
   "metadata": {},
   "outputs": [
    {
     "data": {
      "text/plain": [
       "0.7354215754202589"
      ]
     },
     "execution_count": 2553,
     "metadata": {},
     "output_type": "execute_result"
    }
   ],
   "source": [
    "probabilities_test[:, 0].mean()"
   ]
  },
  {
   "cell_type": "code",
   "execution_count": 2554,
   "metadata": {},
   "outputs": [
    {
     "data": {
      "text/plain": [
       "0.2645784245797411"
      ]
     },
     "execution_count": 2554,
     "metadata": {},
     "output_type": "execute_result"
    }
   ],
   "source": [
    "probabilities_test[:, 1].mean()"
   ]
  },
  {
   "cell_type": "code",
   "execution_count": 2555,
   "metadata": {},
   "outputs": [
    {
     "data": {
      "image/png": "[encoded data removed]",
      "text/plain": [
       "<Figure size 432x288 with 1 Axes>"
      ]
     },
     "metadata": {
      "needs_background": "light"
     },
     "output_type": "display_data"
    }
   ],
   "source": [
    "fpr, tpr, thresholds = roc_curve(Y_test, probabilities_one_test)\n",
    "\n",
    "plt.figure()\n",
    "plt.plot(fpr, tpr)\n",
    "plt.plot([0, 1], [0, 1], linestyle='--')\n",
    "plt.xlim([0.0, 1.0])\n",
    "plt.ylim([0.0, 1.0])\n",
    "plt.xlabel('Tasa de falsos positivos')\n",
    "plt.ylabel('Tasa de verdaderos positivos')\n",
    "plt.title('Curva ROC')\n",
    "plt.show()"
   ]
  },
  {
   "cell_type": "markdown",
   "metadata": {},
   "source": [
    "### Conclusiones sobre el entrenamiento y validación de los modelos"
   ]
  },
  {
   "cell_type": "markdown",
   "metadata": {},
   "source": [
    "- Se realizó la conversión de datos categóricos a ordinales para su uso en los modelos de árbol de decisión y bosque. así mismo, se realizó el tratamiento de datos categóricos con One Hot End para su uso en el modelo de regresión logística.\n",
    "\n",
    "- Posteriormente se llevo a cabo la división de los sets de entrenamiento, validación y prueba, siguiendo una comvención de 3:1:1 o bien, 60-60-20.\n",
    "\n",
    "- El entrenamiento de árbol de decisión se realizó modificando el hiperparámetro de profundidad para encontrar la métrica más alta disponible. Igualmente, para bosque aleatorio se entreno el modelo con el hiperparámetro de profundidad y estimadores correspondientes. Finalmente se entreno el modelo de regresión logística.\n",
    "\n",
    "- El modelo con la métrica de área bajo la curva de características operativas más alta resultó ser el bosque aleatorio con 0.74, seguido de árbol de regresión logística con 0.71 y finalmente árbol de decisión con 0.7. Lo que significa que el modelo de bosque aleatorio tiene el mejor rendimiento en todos los umbrales de clasificación posibles. O bien, este modelo tiene una probabilidad más alta de clasificar un valor positivo aleatorio que un valor negativo aleatorio como resultado dados los inputs del modelo. \n",
    "\n",
    "- Finalmente, con el modelo de bosque aleatorio, se realizó el cálculo de probabilidad de obtener resultado 0 y resultado 1 para 1407 datos del conjunto de prueba, dando como resultado una probabilidad media de obtener resultados igual a 0 del 73% y 26% para resultados igual a 1. Resultando en una métrica de AUC_ROC para el set de prueba de 0.83, que es la probabilidad agregada de clasificar un valor positivo aleatorio. Se agrega el gráfico que muestra la línea de umbral entre la tasa de falsos positivos y la tasa de verdaderos positivos en la que se puede observar que por encima de una tasa de 0.83 de falsos positivos se obtienen 100% de verdaderos positivos en el modelo."
   ]
  },
  {
   "cell_type": "code",
   "execution_count": null,
   "metadata": {},
   "outputs": [],
   "source": []
  }
 ],
 "metadata": {
  "kernelspec": {
   "display_name": "Python 3 (ipykernel)",
   "language": "python",
   "name": "python3"
  },
  "language_info": {
   "codemirror_mode": {
    "name": "ipython",
    "version": 3
   },
   "file_extension": ".py",
   "mimetype": "text/x-python",
   "name": "python",
   "nbconvert_exporter": "python",
   "pygments_lexer": "ipython3",
   "version": "3.9.5"
  },
  "toc": {
   "base_numbering": 1,
   "nav_menu": {},
   "number_sections": true,
   "sideBar": true,
   "skip_h1_title": true,
   "title_cell": "Table of Contents",
   "title_sidebar": "Contents",
   "toc_cell": false,
   "toc_position": {},
   "toc_section_display": true,
   "toc_window_display": false
  }
 },
 "nbformat": 4,
 "nbformat_minor": 2
}
